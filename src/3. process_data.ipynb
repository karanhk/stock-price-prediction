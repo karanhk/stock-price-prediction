{
 "cells": [
  {
   "cell_type": "markdown",
   "metadata": {},
   "source": [
    "### This workbook downloads the stock data for given duration and interval."
   ]
  },
  {
   "cell_type": "markdown",
   "metadata": {},
   "source": [
    "### Import libraries"
   ]
  },
  {
   "cell_type": "code",
   "execution_count": 1,
   "metadata": {},
   "outputs": [],
   "source": [
    "import pandas as pd\n",
    "import numpy as np\n",
    "import os\n",
    "from tqdm import tqdm\n",
    "from sklearn.preprocessing import MinMaxScaler"
   ]
  },
  {
   "cell_type": "code",
   "execution_count": 2,
   "metadata": {},
   "outputs": [],
   "source": [
    "df = pd.read_csv('../data/all_stock.csv')\n",
    "df['date_only'] = df['Datetime'].apply(lambda x : x[:10])"
   ]
  },
  {
   "cell_type": "code",
   "execution_count": 3,
   "metadata": {},
   "outputs": [],
   "source": [
    "dates = df['date_only'].unique()\n",
    "total_shift = 30\n",
    "\n",
    "col_list = ['Open']\n",
    "for i in range(1,total_shift+1):\n",
    "    col_list.append('shift_' + str(i))\n",
    "\n",
    "processed_df = pd.DataFrame(columns=col_list)"
   ]
  },
  {
   "cell_type": "code",
   "execution_count": 4,
   "metadata": {},
   "outputs": [
    {
     "name": "stderr",
     "output_type": "stream",
     "text": [
      "  0%|          | 0/5 [00:00<?, ?it/s]/var/folders/1n/d6nlb5_n5533sq2xrp3z352h0000gn/T/ipykernel_7649/964898380.py:12: FutureWarning: The behavior of DataFrame concatenation with empty or all-NA entries is deprecated. In a future version, this will no longer exclude empty or all-NA columns when determining the result dtypes. To retain the old behavior, exclude the relevant entries before the concat operation.\n",
      "  processed_df = pd.concat([processed_df,temp_df]).reset_index(drop=True)\n",
      "100%|██████████| 5/5 [00:00<00:00, 146.72it/s]\n"
     ]
    }
   ],
   "source": [
    "for date in tqdm(dates):\n",
    "    temp_df = df[df['date_only'] == date]\n",
    "    temp_df = temp_df[['Open']]\n",
    "\n",
    "    scaler = MinMaxScaler()\n",
    "    temp_df['Open'] = scaler.fit_transform(temp_df)\n",
    "\n",
    "    for i in range(1,total_shift+1):\n",
    "        temp_df['shift_' + str(i)] = temp_df['Open'].shift(i)\n",
    "\n",
    "    temp_df = temp_df.dropna()\n",
    "    processed_df = pd.concat([processed_df,temp_df]).reset_index(drop=True)"
   ]
  },
  {
   "cell_type": "code",
   "execution_count": 7,
   "metadata": {},
   "outputs": [],
   "source": [
    "processed_df.to_csv('../data/processed_data.csv',index=False)"
   ]
  }
 ],
 "metadata": {
  "kernelspec": {
   "display_name": "stock_env",
   "language": "python",
   "name": "python3"
  },
  "language_info": {
   "codemirror_mode": {
    "name": "ipython",
    "version": 3
   },
   "file_extension": ".py",
   "mimetype": "text/x-python",
   "name": "python",
   "nbconvert_exporter": "python",
   "pygments_lexer": "ipython3",
   "version": "3.10.14"
  }
 },
 "nbformat": 4,
 "nbformat_minor": 2
}
