{
 "cells": [
  {
   "cell_type": "code",
   "execution_count": 1,
   "metadata": {},
   "outputs": [],
   "source": [
    "import numpy as np\n",
    "import pandas as pd\n",
    "import os\n",
    "from tqdm import tqdm\n",
    "import plotly.express as px\n",
    "from tensorflow.keras.models import load_model\n",
    "from sklearn.metrics import mean_squared_error, mean_absolute_error\n",
    "from sklearn.preprocessing import MinMaxScaler"
   ]
  },
  {
   "cell_type": "code",
   "execution_count": 2,
   "metadata": {},
   "outputs": [
    {
     "name": "stderr",
     "output_type": "stream",
     "text": [
      "WARNING:absl:Compiled the loaded model, but the compiled metrics have yet to be built. `model.compile_metrics` will be empty until you train or evaluate the model.\n"
     ]
    }
   ],
   "source": [
    "df = pd.read_csv('../data/all_stock.csv')\n",
    "model = load_model('../model.h5')"
   ]
  },
  {
   "cell_type": "code",
   "execution_count": 3,
   "metadata": {},
   "outputs": [],
   "source": [
    "df['date_only'] = df['Datetime'].apply(lambda x : x[:10])\n",
    "df = df[df['date_only'] == '2024-08-12']\n",
    "df = df[['Datetime','Open']]"
   ]
  },
  {
   "cell_type": "code",
   "execution_count": 4,
   "metadata": {},
   "outputs": [],
   "source": [
    "total_shift = 30\n",
    "input = df[:total_shift]['Open'].values.reshape(total_shift,1)\n",
    "df = df[total_shift:]"
   ]
  },
  {
   "cell_type": "code",
   "execution_count": 5,
   "metadata": {},
   "outputs": [],
   "source": [
    "scaler = MinMaxScaler()\n",
    "scaler.fit(input)\n",
    "input = scaler.transform(input)"
   ]
  },
  {
   "cell_type": "code",
   "execution_count": 6,
   "metadata": {},
   "outputs": [
    {
     "name": "stderr",
     "output_type": "stream",
     "text": [
      "  0%|          | 0/345 [00:00<?, ?it/s]"
     ]
    },
    {
     "name": "stdout",
     "output_type": "stream",
     "text": [
      "\u001b[1m1/1\u001b[0m \u001b[32m━━━━━━━━━━━━━━━━━━━━\u001b[0m\u001b[37m\u001b[0m \u001b[1m0s\u001b[0m 97ms/step\n"
     ]
    },
    {
     "name": "stderr",
     "output_type": "stream",
     "text": [
      "  0%|          | 1/345 [00:00<01:07,  5.08it/s]"
     ]
    },
    {
     "name": "stdout",
     "output_type": "stream",
     "text": [
      "\u001b[1m1/1\u001b[0m \u001b[32m━━━━━━━━━━━━━━━━━━━━\u001b[0m\u001b[37m\u001b[0m \u001b[1m0s\u001b[0m 10ms/step\n",
      "\u001b[1m1/1\u001b[0m \u001b[32m━━━━━━━━━━━━━━━━━━━━\u001b[0m\u001b[37m\u001b[0m \u001b[1m0s\u001b[0m 11ms/step\n",
      "\u001b[1m1/1\u001b[0m \u001b[32m━━━━━━━━━━━━━━━━━━━━\u001b[0m\u001b[37m\u001b[0m \u001b[1m0s\u001b[0m 9ms/step\n",
      "\u001b[1m1/1\u001b[0m \u001b[32m━━━━━━━━━━━━━━━━━━━━\u001b[0m\u001b[37m\u001b[0m \u001b[1m0s\u001b[0m 9ms/step\n"
     ]
    },
    {
     "name": "stderr",
     "output_type": "stream",
     "text": [
      "  1%|▏         | 5/345 [00:00<00:17, 19.33it/s]"
     ]
    },
    {
     "name": "stdout",
     "output_type": "stream",
     "text": [
      "\u001b[1m1/1\u001b[0m \u001b[32m━━━━━━━━━━━━━━━━━━━━\u001b[0m\u001b[37m\u001b[0m \u001b[1m0s\u001b[0m 33ms/step\n",
      "\u001b[1m1/1\u001b[0m \u001b[32m━━━━━━━━━━━━━━━━━━━━\u001b[0m\u001b[37m\u001b[0m \u001b[1m0s\u001b[0m 10ms/step\n",
      "\u001b[1m1/1\u001b[0m \u001b[32m━━━━━━━━━━━━━━━━━━━━\u001b[0m\u001b[37m\u001b[0m \u001b[1m0s\u001b[0m 9ms/step\n"
     ]
    },
    {
     "name": "stderr",
     "output_type": "stream",
     "text": [
      "  2%|▏         | 8/345 [00:00<00:14, 22.92it/s]"
     ]
    },
    {
     "name": "stdout",
     "output_type": "stream",
     "text": [
      "\u001b[1m1/1\u001b[0m \u001b[32m━━━━━━━━━━━━━━━━━━━━\u001b[0m\u001b[37m\u001b[0m \u001b[1m0s\u001b[0m 9ms/step\n",
      "\u001b[1m1/1\u001b[0m \u001b[32m━━━━━━━━━━━━━━━━━━━━\u001b[0m\u001b[37m\u001b[0m \u001b[1m0s\u001b[0m 9ms/step\n",
      "\u001b[1m1/1\u001b[0m \u001b[32m━━━━━━━━━━━━━━━━━━━━\u001b[0m\u001b[37m\u001b[0m \u001b[1m0s\u001b[0m 10ms/step\n",
      "\u001b[1m1/1\u001b[0m \u001b[32m━━━━━━━━━━━━━━━━━━━━\u001b[0m\u001b[37m\u001b[0m \u001b[1m0s\u001b[0m 9ms/step\n",
      "\u001b[1m1/1\u001b[0m \u001b[32m━━━━━━━━━━━━━━━━━━━━\u001b[0m\u001b[37m\u001b[0m \u001b[1m0s\u001b[0m 9ms/step\n"
     ]
    },
    {
     "name": "stderr",
     "output_type": "stream",
     "text": [
      "  4%|▍         | 13/345 [00:00<00:11, 29.82it/s]"
     ]
    },
    {
     "name": "stdout",
     "output_type": "stream",
     "text": [
      "\u001b[1m1/1\u001b[0m \u001b[32m━━━━━━━━━━━━━━━━━━━━\u001b[0m\u001b[37m\u001b[0m \u001b[1m0s\u001b[0m 9ms/step\n",
      "\u001b[1m1/1\u001b[0m \u001b[32m━━━━━━━━━━━━━━━━━━━━\u001b[0m\u001b[37m\u001b[0m \u001b[1m0s\u001b[0m 9ms/step\n",
      "\u001b[1m1/1\u001b[0m \u001b[32m━━━━━━━━━━━━━━━━━━━━\u001b[0m\u001b[37m\u001b[0m \u001b[1m0s\u001b[0m 9ms/step\n",
      "\u001b[1m1/1\u001b[0m \u001b[32m━━━━━━━━━━━━━━━━━━━━\u001b[0m\u001b[37m\u001b[0m \u001b[1m0s\u001b[0m 9ms/step\n",
      "\u001b[1m1/1\u001b[0m \u001b[32m━━━━━━━━━━━━━━━━━━━━\u001b[0m\u001b[37m\u001b[0m \u001b[1m0s\u001b[0m 9ms/step\n"
     ]
    },
    {
     "name": "stderr",
     "output_type": "stream",
     "text": [
      "  5%|▌         | 18/345 [00:00<00:09, 33.92it/s]"
     ]
    },
    {
     "name": "stdout",
     "output_type": "stream",
     "text": [
      "\u001b[1m1/1\u001b[0m \u001b[32m━━━━━━━━━━━━━━━━━━━━\u001b[0m\u001b[37m\u001b[0m \u001b[1m0s\u001b[0m 9ms/step\n",
      "\u001b[1m1/1\u001b[0m \u001b[32m━━━━━━━━━━━━━━━━━━━━\u001b[0m\u001b[37m\u001b[0m \u001b[1m0s\u001b[0m 9ms/step\n",
      "\u001b[1m1/1\u001b[0m \u001b[32m━━━━━━━━━━━━━━━━━━━━\u001b[0m\u001b[37m\u001b[0m \u001b[1m0s\u001b[0m 9ms/step\n",
      "\u001b[1m1/1\u001b[0m \u001b[32m━━━━━━━━━━━━━━━━━━━━\u001b[0m\u001b[37m\u001b[0m \u001b[1m0s\u001b[0m 9ms/step\n",
      "\u001b[1m1/1\u001b[0m \u001b[32m━━━━━━━━━━━━━━━━━━━━\u001b[0m\u001b[37m\u001b[0m \u001b[1m0s\u001b[0m 11ms/step\n"
     ]
    },
    {
     "name": "stderr",
     "output_type": "stream",
     "text": [
      "  7%|▋         | 23/345 [00:00<00:08, 36.29it/s]"
     ]
    },
    {
     "name": "stdout",
     "output_type": "stream",
     "text": [
      "\u001b[1m1/1\u001b[0m \u001b[32m━━━━━━━━━━━━━━━━━━━━\u001b[0m\u001b[37m\u001b[0m \u001b[1m0s\u001b[0m 9ms/step\n",
      "\u001b[1m1/1\u001b[0m \u001b[32m━━━━━━━━━━━━━━━━━━━━\u001b[0m\u001b[37m\u001b[0m \u001b[1m0s\u001b[0m 9ms/step\n",
      "\u001b[1m1/1\u001b[0m \u001b[32m━━━━━━━━━━━━━━━━━━━━\u001b[0m\u001b[37m\u001b[0m \u001b[1m0s\u001b[0m 9ms/step\n",
      "\u001b[1m1/1\u001b[0m \u001b[32m━━━━━━━━━━━━━━━━━━━━\u001b[0m\u001b[37m\u001b[0m \u001b[1m0s\u001b[0m 9ms/step\n",
      "\u001b[1m1/1\u001b[0m \u001b[32m━━━━━━━━━━━━━━━━━━━━\u001b[0m\u001b[37m\u001b[0m \u001b[1m0s\u001b[0m 10ms/step\n"
     ]
    },
    {
     "name": "stderr",
     "output_type": "stream",
     "text": [
      "  8%|▊         | 28/345 [00:00<00:08, 37.59it/s]"
     ]
    },
    {
     "name": "stdout",
     "output_type": "stream",
     "text": [
      "\u001b[1m1/1\u001b[0m \u001b[32m━━━━━━━━━━━━━━━━━━━━\u001b[0m\u001b[37m\u001b[0m \u001b[1m0s\u001b[0m 10ms/step\n",
      "\u001b[1m1/1\u001b[0m \u001b[32m━━━━━━━━━━━━━━━━━━━━\u001b[0m\u001b[37m\u001b[0m \u001b[1m0s\u001b[0m 10ms/step\n",
      "\u001b[1m1/1\u001b[0m \u001b[32m━━━━━━━━━━━━━━━━━━━━\u001b[0m\u001b[37m\u001b[0m \u001b[1m0s\u001b[0m 9ms/step\n",
      "\u001b[1m1/1\u001b[0m \u001b[32m━━━━━━━━━━━━━━━━━━━━\u001b[0m\u001b[37m\u001b[0m \u001b[1m0s\u001b[0m 10ms/step\n",
      "\u001b[1m1/1\u001b[0m \u001b[32m━━━━━━━━━━━━━━━━━━━━\u001b[0m\u001b[37m\u001b[0m \u001b[1m0s\u001b[0m 34ms/step\n"
     ]
    },
    {
     "name": "stderr",
     "output_type": "stream",
     "text": [
      " 10%|▉         | 33/345 [00:01<00:08, 35.49it/s]"
     ]
    },
    {
     "name": "stdout",
     "output_type": "stream",
     "text": [
      "\u001b[1m1/1\u001b[0m \u001b[32m━━━━━━━━━━━━━━━━━━━━\u001b[0m\u001b[37m\u001b[0m \u001b[1m0s\u001b[0m 10ms/step\n",
      "\u001b[1m1/1\u001b[0m \u001b[32m━━━━━━━━━━━━━━━━━━━━\u001b[0m\u001b[37m\u001b[0m \u001b[1m0s\u001b[0m 10ms/step\n",
      "\u001b[1m1/1\u001b[0m \u001b[32m━━━━━━━━━━━━━━━━━━━━\u001b[0m\u001b[37m\u001b[0m \u001b[1m0s\u001b[0m 28ms/step\n",
      "\u001b[1m1/1\u001b[0m \u001b[32m━━━━━━━━━━━━━━━━━━━━\u001b[0m\u001b[37m\u001b[0m \u001b[1m0s\u001b[0m 23ms/step\n"
     ]
    },
    {
     "name": "stderr",
     "output_type": "stream",
     "text": [
      " 11%|█         | 37/345 [00:01<00:10, 29.32it/s]"
     ]
    },
    {
     "name": "stdout",
     "output_type": "stream",
     "text": [
      "\u001b[1m1/1\u001b[0m \u001b[32m━━━━━━━━━━━━━━━━━━━━\u001b[0m\u001b[37m\u001b[0m \u001b[1m0s\u001b[0m 10ms/step\n",
      "\u001b[1m1/1\u001b[0m \u001b[32m━━━━━━━━━━━━━━━━━━━━\u001b[0m\u001b[37m\u001b[0m \u001b[1m0s\u001b[0m 10ms/step\n",
      "\u001b[1m1/1\u001b[0m \u001b[32m━━━━━━━━━━━━━━━━━━━━\u001b[0m\u001b[37m\u001b[0m \u001b[1m0s\u001b[0m 11ms/step\n",
      "\u001b[1m1/1\u001b[0m \u001b[32m━━━━━━━━━━━━━━━━━━━━\u001b[0m\u001b[37m\u001b[0m \u001b[1m0s\u001b[0m 10ms/step\n"
     ]
    },
    {
     "name": "stderr",
     "output_type": "stream",
     "text": [
      " 12%|█▏        | 41/345 [00:01<00:09, 30.79it/s]"
     ]
    },
    {
     "name": "stdout",
     "output_type": "stream",
     "text": [
      "\u001b[1m1/1\u001b[0m \u001b[32m━━━━━━━━━━━━━━━━━━━━\u001b[0m\u001b[37m\u001b[0m \u001b[1m0s\u001b[0m 10ms/step\n",
      "\u001b[1m1/1\u001b[0m \u001b[32m━━━━━━━━━━━━━━━━━━━━\u001b[0m\u001b[37m\u001b[0m \u001b[1m0s\u001b[0m 10ms/step\n",
      "\u001b[1m1/1\u001b[0m \u001b[32m━━━━━━━━━━━━━━━━━━━━\u001b[0m\u001b[37m\u001b[0m \u001b[1m0s\u001b[0m 9ms/step\n",
      "\u001b[1m1/1\u001b[0m \u001b[32m━━━━━━━━━━━━━━━━━━━━\u001b[0m\u001b[37m\u001b[0m \u001b[1m0s\u001b[0m 9ms/step\n"
     ]
    },
    {
     "name": "stderr",
     "output_type": "stream",
     "text": [
      " 13%|█▎        | 45/345 [00:01<00:09, 32.92it/s]"
     ]
    },
    {
     "name": "stdout",
     "output_type": "stream",
     "text": [
      "\u001b[1m1/1\u001b[0m \u001b[32m━━━━━━━━━━━━━━━━━━━━\u001b[0m\u001b[37m\u001b[0m \u001b[1m0s\u001b[0m 13ms/step\n",
      "\u001b[1m1/1\u001b[0m \u001b[32m━━━━━━━━━━━━━━━━━━━━\u001b[0m\u001b[37m\u001b[0m \u001b[1m0s\u001b[0m 9ms/step\n",
      "\u001b[1m1/1\u001b[0m \u001b[32m━━━━━━━━━━━━━━━━━━━━\u001b[0m\u001b[37m\u001b[0m \u001b[1m0s\u001b[0m 9ms/step\n",
      "\u001b[1m1/1\u001b[0m \u001b[32m━━━━━━━━━━━━━━━━━━━━\u001b[0m\u001b[37m\u001b[0m \u001b[1m0s\u001b[0m 9ms/step\n"
     ]
    },
    {
     "name": "stderr",
     "output_type": "stream",
     "text": [
      " 14%|█▍        | 49/345 [00:01<00:08, 34.58it/s]"
     ]
    },
    {
     "name": "stdout",
     "output_type": "stream",
     "text": [
      "\u001b[1m1/1\u001b[0m \u001b[32m━━━━━━━━━━━━━━━━━━━━\u001b[0m\u001b[37m\u001b[0m \u001b[1m0s\u001b[0m 9ms/step\n",
      "\u001b[1m1/1\u001b[0m \u001b[32m━━━━━━━━━━━━━━━━━━━━\u001b[0m\u001b[37m\u001b[0m \u001b[1m0s\u001b[0m 21ms/step\n",
      "\u001b[1m1/1\u001b[0m \u001b[32m━━━━━━━━━━━━━━━━━━━━\u001b[0m\u001b[37m\u001b[0m \u001b[1m0s\u001b[0m 10ms/step\n",
      "\u001b[1m1/1\u001b[0m \u001b[32m━━━━━━━━━━━━━━━━━━━━\u001b[0m\u001b[37m\u001b[0m \u001b[1m0s\u001b[0m 10ms/step\n"
     ]
    },
    {
     "name": "stderr",
     "output_type": "stream",
     "text": [
      " 15%|█▌        | 53/345 [00:01<00:08, 32.98it/s]"
     ]
    },
    {
     "name": "stdout",
     "output_type": "stream",
     "text": [
      "\u001b[1m1/1\u001b[0m \u001b[32m━━━━━━━━━━━━━━━━━━━━\u001b[0m\u001b[37m\u001b[0m \u001b[1m0s\u001b[0m 10ms/step\n",
      "\u001b[1m1/1\u001b[0m \u001b[32m━━━━━━━━━━━━━━━━━━━━\u001b[0m\u001b[37m\u001b[0m \u001b[1m0s\u001b[0m 10ms/step\n",
      "\u001b[1m1/1\u001b[0m \u001b[32m━━━━━━━━━━━━━━━━━━━━\u001b[0m\u001b[37m\u001b[0m \u001b[1m0s\u001b[0m 12ms/step\n",
      "\u001b[1m1/1\u001b[0m \u001b[32m━━━━━━━━━━━━━━━━━━━━\u001b[0m\u001b[37m\u001b[0m \u001b[1m0s\u001b[0m 12ms/step\n"
     ]
    },
    {
     "name": "stderr",
     "output_type": "stream",
     "text": [
      " 17%|█▋        | 57/345 [00:01<00:08, 33.50it/s]"
     ]
    },
    {
     "name": "stdout",
     "output_type": "stream",
     "text": [
      "\u001b[1m1/1\u001b[0m \u001b[32m━━━━━━━━━━━━━━━━━━━━\u001b[0m\u001b[37m\u001b[0m \u001b[1m0s\u001b[0m 15ms/step\n",
      "\u001b[1m1/1\u001b[0m \u001b[32m━━━━━━━━━━━━━━━━━━━━\u001b[0m\u001b[37m\u001b[0m \u001b[1m0s\u001b[0m 12ms/step\n",
      "\u001b[1m1/1\u001b[0m \u001b[32m━━━━━━━━━━━━━━━━━━━━\u001b[0m\u001b[37m\u001b[0m \u001b[1m0s\u001b[0m 11ms/step\n",
      "\u001b[1m1/1\u001b[0m \u001b[32m━━━━━━━━━━━━━━━━━━━━\u001b[0m\u001b[37m\u001b[0m \u001b[1m0s\u001b[0m 13ms/step\n"
     ]
    },
    {
     "name": "stderr",
     "output_type": "stream",
     "text": [
      " 18%|█▊        | 61/345 [00:01<00:08, 32.24it/s]"
     ]
    },
    {
     "name": "stdout",
     "output_type": "stream",
     "text": [
      "\u001b[1m1/1\u001b[0m \u001b[32m━━━━━━━━━━━━━━━━━━━━\u001b[0m\u001b[37m\u001b[0m \u001b[1m0s\u001b[0m 11ms/step\n",
      "\u001b[1m1/1\u001b[0m \u001b[32m━━━━━━━━━━━━━━━━━━━━\u001b[0m\u001b[37m\u001b[0m \u001b[1m0s\u001b[0m 10ms/step\n",
      "\u001b[1m1/1\u001b[0m \u001b[32m━━━━━━━━━━━━━━━━━━━━\u001b[0m\u001b[37m\u001b[0m \u001b[1m0s\u001b[0m 12ms/step\n",
      "\u001b[1m1/1\u001b[0m \u001b[32m━━━━━━━━━━━━━━━━━━━━\u001b[0m\u001b[37m\u001b[0m \u001b[1m0s\u001b[0m 11ms/step\n"
     ]
    },
    {
     "name": "stderr",
     "output_type": "stream",
     "text": [
      " 19%|█▉        | 65/345 [00:02<00:08, 33.18it/s]"
     ]
    },
    {
     "name": "stdout",
     "output_type": "stream",
     "text": [
      "\u001b[1m1/1\u001b[0m \u001b[32m━━━━━━━━━━━━━━━━━━━━\u001b[0m\u001b[37m\u001b[0m \u001b[1m0s\u001b[0m 10ms/step\n",
      "\u001b[1m1/1\u001b[0m \u001b[32m━━━━━━━━━━━━━━━━━━━━\u001b[0m\u001b[37m\u001b[0m \u001b[1m0s\u001b[0m 31ms/step\n",
      "\u001b[1m1/1\u001b[0m \u001b[32m━━━━━━━━━━━━━━━━━━━━\u001b[0m\u001b[37m\u001b[0m \u001b[1m0s\u001b[0m 9ms/step\n",
      "\u001b[1m1/1\u001b[0m \u001b[32m━━━━━━━━━━━━━━━━━━━━\u001b[0m\u001b[37m\u001b[0m \u001b[1m0s\u001b[0m 10ms/step\n"
     ]
    },
    {
     "name": "stderr",
     "output_type": "stream",
     "text": [
      " 20%|██        | 69/345 [00:02<00:08, 31.02it/s]"
     ]
    },
    {
     "name": "stdout",
     "output_type": "stream",
     "text": [
      "\u001b[1m1/1\u001b[0m \u001b[32m━━━━━━━━━━━━━━━━━━━━\u001b[0m\u001b[37m\u001b[0m \u001b[1m0s\u001b[0m 9ms/step\n",
      "\u001b[1m1/1\u001b[0m \u001b[32m━━━━━━━━━━━━━━━━━━━━\u001b[0m\u001b[37m\u001b[0m \u001b[1m0s\u001b[0m 10ms/step\n",
      "\u001b[1m1/1\u001b[0m \u001b[32m━━━━━━━━━━━━━━━━━━━━\u001b[0m\u001b[37m\u001b[0m \u001b[1m0s\u001b[0m 9ms/step\n",
      "\u001b[1m1/1\u001b[0m \u001b[32m━━━━━━━━━━━━━━━━━━━━\u001b[0m\u001b[37m\u001b[0m \u001b[1m0s\u001b[0m 10ms/step\n"
     ]
    },
    {
     "name": "stderr",
     "output_type": "stream",
     "text": [
      " 21%|██        | 73/345 [00:02<00:08, 33.06it/s]"
     ]
    },
    {
     "name": "stdout",
     "output_type": "stream",
     "text": [
      "\u001b[1m1/1\u001b[0m \u001b[32m━━━━━━━━━━━━━━━━━━━━\u001b[0m\u001b[37m\u001b[0m \u001b[1m0s\u001b[0m 9ms/step\n",
      "\u001b[1m1/1\u001b[0m \u001b[32m━━━━━━━━━━━━━━━━━━━━\u001b[0m\u001b[37m\u001b[0m \u001b[1m0s\u001b[0m 10ms/step\n",
      "\u001b[1m1/1\u001b[0m \u001b[32m━━━━━━━━━━━━━━━━━━━━\u001b[0m\u001b[37m\u001b[0m \u001b[1m0s\u001b[0m 11ms/step\n",
      "\u001b[1m1/1\u001b[0m \u001b[32m━━━━━━━━━━━━━━━━━━━━\u001b[0m\u001b[37m\u001b[0m \u001b[1m0s\u001b[0m 10ms/step\n"
     ]
    },
    {
     "name": "stderr",
     "output_type": "stream",
     "text": [
      " 22%|██▏       | 77/345 [00:02<00:07, 33.93it/s]"
     ]
    },
    {
     "name": "stdout",
     "output_type": "stream",
     "text": [
      "\u001b[1m1/1\u001b[0m \u001b[32m━━━━━━━━━━━━━━━━━━━━\u001b[0m\u001b[37m\u001b[0m \u001b[1m0s\u001b[0m 9ms/step\n",
      "\u001b[1m1/1\u001b[0m \u001b[32m━━━━━━━━━━━━━━━━━━━━\u001b[0m\u001b[37m\u001b[0m \u001b[1m0s\u001b[0m 10ms/step\n",
      "\u001b[1m1/1\u001b[0m \u001b[32m━━━━━━━━━━━━━━━━━━━━\u001b[0m\u001b[37m\u001b[0m \u001b[1m0s\u001b[0m 10ms/step\n",
      "\u001b[1m1/1\u001b[0m \u001b[32m━━━━━━━━━━━━━━━━━━━━\u001b[0m\u001b[37m\u001b[0m \u001b[1m0s\u001b[0m 9ms/step\n"
     ]
    },
    {
     "name": "stderr",
     "output_type": "stream",
     "text": [
      " 23%|██▎       | 81/345 [00:02<00:07, 34.54it/s]"
     ]
    },
    {
     "name": "stdout",
     "output_type": "stream",
     "text": [
      "\u001b[1m1/1\u001b[0m \u001b[32m━━━━━━━━━━━━━━━━━━━━\u001b[0m\u001b[37m\u001b[0m \u001b[1m0s\u001b[0m 11ms/step\n",
      "\u001b[1m1/1\u001b[0m \u001b[32m━━━━━━━━━━━━━━━━━━━━\u001b[0m\u001b[37m\u001b[0m \u001b[1m0s\u001b[0m 9ms/step\n",
      "\u001b[1m1/1\u001b[0m \u001b[32m━━━━━━━━━━━━━━━━━━━━\u001b[0m\u001b[37m\u001b[0m \u001b[1m0s\u001b[0m 9ms/step\n",
      "\u001b[1m1/1\u001b[0m \u001b[32m━━━━━━━━━━━━━━━━━━━━\u001b[0m\u001b[37m\u001b[0m \u001b[1m0s\u001b[0m 9ms/step\n"
     ]
    },
    {
     "name": "stderr",
     "output_type": "stream",
     "text": [
      " 25%|██▍       | 85/345 [00:02<00:07, 35.56it/s]"
     ]
    },
    {
     "name": "stdout",
     "output_type": "stream",
     "text": [
      "\u001b[1m1/1\u001b[0m \u001b[32m━━━━━━━━━━━━━━━━━━━━\u001b[0m\u001b[37m\u001b[0m \u001b[1m0s\u001b[0m 10ms/step\n",
      "\u001b[1m1/1\u001b[0m \u001b[32m━━━━━━━━━━━━━━━━━━━━\u001b[0m\u001b[37m\u001b[0m \u001b[1m0s\u001b[0m 15ms/step\n",
      "\u001b[1m1/1\u001b[0m \u001b[32m━━━━━━━━━━━━━━━━━━━━\u001b[0m\u001b[37m\u001b[0m \u001b[1m0s\u001b[0m 10ms/step\n",
      "\u001b[1m1/1\u001b[0m \u001b[32m━━━━━━━━━━━━━━━━━━━━\u001b[0m\u001b[37m\u001b[0m \u001b[1m0s\u001b[0m 10ms/step\n"
     ]
    },
    {
     "name": "stderr",
     "output_type": "stream",
     "text": [
      " 26%|██▌       | 89/345 [00:02<00:07, 33.62it/s]"
     ]
    },
    {
     "name": "stdout",
     "output_type": "stream",
     "text": [
      "\u001b[1m1/1\u001b[0m \u001b[32m━━━━━━━━━━━━━━━━━━━━\u001b[0m\u001b[37m\u001b[0m \u001b[1m0s\u001b[0m 10ms/step\n",
      "\u001b[1m1/1\u001b[0m \u001b[32m━━━━━━━━━━━━━━━━━━━━\u001b[0m\u001b[37m\u001b[0m \u001b[1m0s\u001b[0m 10ms/step\n",
      "\u001b[1m1/1\u001b[0m \u001b[32m━━━━━━━━━━━━━━━━━━━━\u001b[0m\u001b[37m\u001b[0m \u001b[1m0s\u001b[0m 9ms/step\n",
      "\u001b[1m1/1\u001b[0m \u001b[32m━━━━━━━━━━━━━━━━━━━━\u001b[0m\u001b[37m\u001b[0m \u001b[1m0s\u001b[0m 10ms/step\n"
     ]
    },
    {
     "name": "stderr",
     "output_type": "stream",
     "text": [
      " 27%|██▋       | 93/345 [00:02<00:07, 34.62it/s]"
     ]
    },
    {
     "name": "stdout",
     "output_type": "stream",
     "text": [
      "\u001b[1m1/1\u001b[0m \u001b[32m━━━━━━━━━━━━━━━━━━━━\u001b[0m\u001b[37m\u001b[0m \u001b[1m0s\u001b[0m 10ms/step\n",
      "\u001b[1m1/1\u001b[0m \u001b[32m━━━━━━━━━━━━━━━━━━━━\u001b[0m\u001b[37m\u001b[0m \u001b[1m0s\u001b[0m 10ms/step\n",
      "\u001b[1m1/1\u001b[0m \u001b[32m━━━━━━━━━━━━━━━━━━━━\u001b[0m\u001b[37m\u001b[0m \u001b[1m0s\u001b[0m 10ms/step\n",
      "\u001b[1m1/1\u001b[0m \u001b[32m━━━━━━━━━━━━━━━━━━━━\u001b[0m\u001b[37m\u001b[0m \u001b[1m0s\u001b[0m 10ms/step\n"
     ]
    },
    {
     "name": "stderr",
     "output_type": "stream",
     "text": [
      " 28%|██▊       | 97/345 [00:02<00:06, 35.65it/s]"
     ]
    },
    {
     "name": "stdout",
     "output_type": "stream",
     "text": [
      "\u001b[1m1/1\u001b[0m \u001b[32m━━━━━━━━━━━━━━━━━━━━\u001b[0m\u001b[37m\u001b[0m \u001b[1m0s\u001b[0m 10ms/step\n",
      "\u001b[1m1/1\u001b[0m \u001b[32m━━━━━━━━━━━━━━━━━━━━\u001b[0m\u001b[37m\u001b[0m \u001b[1m0s\u001b[0m 10ms/step\n",
      "\u001b[1m1/1\u001b[0m \u001b[32m━━━━━━━━━━━━━━━━━━━━\u001b[0m\u001b[37m\u001b[0m \u001b[1m0s\u001b[0m 10ms/step\n",
      "\u001b[1m1/1\u001b[0m \u001b[32m━━━━━━━━━━━━━━━━━━━━\u001b[0m\u001b[37m\u001b[0m \u001b[1m0s\u001b[0m 10ms/step\n"
     ]
    },
    {
     "name": "stderr",
     "output_type": "stream",
     "text": [
      " 29%|██▉       | 101/345 [00:03<00:06, 35.99it/s]"
     ]
    },
    {
     "name": "stdout",
     "output_type": "stream",
     "text": [
      "\u001b[1m1/1\u001b[0m \u001b[32m━━━━━━━━━━━━━━━━━━━━\u001b[0m\u001b[37m\u001b[0m \u001b[1m0s\u001b[0m 10ms/step\n",
      "\u001b[1m1/1\u001b[0m \u001b[32m━━━━━━━━━━━━━━━━━━━━\u001b[0m\u001b[37m\u001b[0m \u001b[1m0s\u001b[0m 10ms/step\n",
      "\u001b[1m1/1\u001b[0m \u001b[32m━━━━━━━━━━━━━━━━━━━━\u001b[0m\u001b[37m\u001b[0m \u001b[1m0s\u001b[0m 10ms/step\n",
      "\u001b[1m1/1\u001b[0m \u001b[32m━━━━━━━━━━━━━━━━━━━━\u001b[0m\u001b[37m\u001b[0m \u001b[1m0s\u001b[0m 9ms/step\n"
     ]
    },
    {
     "name": "stderr",
     "output_type": "stream",
     "text": [
      " 30%|███       | 105/345 [00:03<00:06, 36.65it/s]"
     ]
    },
    {
     "name": "stdout",
     "output_type": "stream",
     "text": [
      "\u001b[1m1/1\u001b[0m \u001b[32m━━━━━━━━━━━━━━━━━━━━\u001b[0m\u001b[37m\u001b[0m \u001b[1m0s\u001b[0m 9ms/step\n",
      "\u001b[1m1/1\u001b[0m \u001b[32m━━━━━━━━━━━━━━━━━━━━\u001b[0m\u001b[37m\u001b[0m \u001b[1m0s\u001b[0m 10ms/step\n",
      "\u001b[1m1/1\u001b[0m \u001b[32m━━━━━━━━━━━━━━━━━━━━\u001b[0m\u001b[37m\u001b[0m \u001b[1m0s\u001b[0m 10ms/step\n",
      "\u001b[1m1/1\u001b[0m \u001b[32m━━━━━━━━━━━━━━━━━━━━\u001b[0m\u001b[37m\u001b[0m \u001b[1m0s\u001b[0m 10ms/step\n"
     ]
    },
    {
     "name": "stderr",
     "output_type": "stream",
     "text": [
      " 32%|███▏      | 109/345 [00:03<00:06, 37.54it/s]"
     ]
    },
    {
     "name": "stdout",
     "output_type": "stream",
     "text": [
      "\u001b[1m1/1\u001b[0m \u001b[32m━━━━━━━━━━━━━━━━━━━━\u001b[0m\u001b[37m\u001b[0m \u001b[1m0s\u001b[0m 10ms/step\n",
      "\u001b[1m1/1\u001b[0m \u001b[32m━━━━━━━━━━━━━━━━━━━━\u001b[0m\u001b[37m\u001b[0m \u001b[1m0s\u001b[0m 9ms/step\n",
      "\u001b[1m1/1\u001b[0m \u001b[32m━━━━━━━━━━━━━━━━━━━━\u001b[0m\u001b[37m\u001b[0m \u001b[1m0s\u001b[0m 9ms/step\n",
      "\u001b[1m1/1\u001b[0m \u001b[32m━━━━━━━━━━━━━━━━━━━━\u001b[0m\u001b[37m\u001b[0m \u001b[1m0s\u001b[0m 9ms/step\n"
     ]
    },
    {
     "name": "stderr",
     "output_type": "stream",
     "text": [
      " 33%|███▎      | 113/345 [00:03<00:06, 37.85it/s]"
     ]
    },
    {
     "name": "stdout",
     "output_type": "stream",
     "text": [
      "\u001b[1m1/1\u001b[0m \u001b[32m━━━━━━━━━━━━━━━━━━━━\u001b[0m\u001b[37m\u001b[0m \u001b[1m0s\u001b[0m 10ms/step\n",
      "\u001b[1m1/1\u001b[0m \u001b[32m━━━━━━━━━━━━━━━━━━━━\u001b[0m\u001b[37m\u001b[0m \u001b[1m0s\u001b[0m 9ms/step\n",
      "\u001b[1m1/1\u001b[0m \u001b[32m━━━━━━━━━━━━━━━━━━━━\u001b[0m\u001b[37m\u001b[0m \u001b[1m0s\u001b[0m 10ms/step\n",
      "\u001b[1m1/1\u001b[0m \u001b[32m━━━━━━━━━━━━━━━━━━━━\u001b[0m\u001b[37m\u001b[0m \u001b[1m0s\u001b[0m 9ms/step\n"
     ]
    },
    {
     "name": "stderr",
     "output_type": "stream",
     "text": [
      " 34%|███▍      | 117/345 [00:03<00:06, 34.78it/s]"
     ]
    },
    {
     "name": "stdout",
     "output_type": "stream",
     "text": [
      "\u001b[1m1/1\u001b[0m \u001b[32m━━━━━━━━━━━━━━━━━━━━\u001b[0m\u001b[37m\u001b[0m \u001b[1m0s\u001b[0m 10ms/step\n",
      "\u001b[1m1/1\u001b[0m \u001b[32m━━━━━━━━━━━━━━━━━━━━\u001b[0m\u001b[37m\u001b[0m \u001b[1m0s\u001b[0m 11ms/step\n",
      "\u001b[1m1/1\u001b[0m \u001b[32m━━━━━━━━━━━━━━━━━━━━\u001b[0m\u001b[37m\u001b[0m \u001b[1m0s\u001b[0m 10ms/step\n",
      "\u001b[1m1/1\u001b[0m \u001b[32m━━━━━━━━━━━━━━━━━━━━\u001b[0m\u001b[37m\u001b[0m \u001b[1m0s\u001b[0m 10ms/step\n"
     ]
    },
    {
     "name": "stderr",
     "output_type": "stream",
     "text": [
      " 35%|███▌      | 121/345 [00:03<00:06, 35.96it/s]"
     ]
    },
    {
     "name": "stdout",
     "output_type": "stream",
     "text": [
      "\u001b[1m1/1\u001b[0m \u001b[32m━━━━━━━━━━━━━━━━━━━━\u001b[0m\u001b[37m\u001b[0m \u001b[1m0s\u001b[0m 9ms/step\n",
      "\u001b[1m1/1\u001b[0m \u001b[32m━━━━━━━━━━━━━━━━━━━━\u001b[0m\u001b[37m\u001b[0m \u001b[1m0s\u001b[0m 14ms/step\n",
      "\u001b[1m1/1\u001b[0m \u001b[32m━━━━━━━━━━━━━━━━━━━━\u001b[0m\u001b[37m\u001b[0m \u001b[1m0s\u001b[0m 15ms/step\n",
      "\u001b[1m1/1\u001b[0m \u001b[32m━━━━━━━━━━━━━━━━━━━━\u001b[0m\u001b[37m\u001b[0m \u001b[1m0s\u001b[0m 12ms/step\n"
     ]
    },
    {
     "name": "stderr",
     "output_type": "stream",
     "text": [
      " 36%|███▌      | 125/345 [00:03<00:08, 25.77it/s]"
     ]
    },
    {
     "name": "stdout",
     "output_type": "stream",
     "text": [
      "\u001b[1m1/1\u001b[0m \u001b[32m━━━━━━━━━━━━━━━━━━━━\u001b[0m\u001b[37m\u001b[0m \u001b[1m0s\u001b[0m 10ms/step\n",
      "\u001b[1m1/1\u001b[0m \u001b[32m━━━━━━━━━━━━━━━━━━━━\u001b[0m\u001b[37m\u001b[0m \u001b[1m0s\u001b[0m 9ms/step\n",
      "\u001b[1m1/1\u001b[0m \u001b[32m━━━━━━━━━━━━━━━━━━━━\u001b[0m\u001b[37m\u001b[0m \u001b[1m0s\u001b[0m 11ms/step\n",
      "\u001b[1m1/1\u001b[0m \u001b[32m━━━━━━━━━━━━━━━━━━━━\u001b[0m\u001b[37m\u001b[0m \u001b[1m0s\u001b[0m 10ms/step\n"
     ]
    },
    {
     "name": "stderr",
     "output_type": "stream",
     "text": [
      " 37%|███▋      | 129/345 [00:04<00:07, 28.35it/s]"
     ]
    },
    {
     "name": "stdout",
     "output_type": "stream",
     "text": [
      "\u001b[1m1/1\u001b[0m \u001b[32m━━━━━━━━━━━━━━━━━━━━\u001b[0m\u001b[37m\u001b[0m \u001b[1m0s\u001b[0m 10ms/step\n",
      "\u001b[1m1/1\u001b[0m \u001b[32m━━━━━━━━━━━━━━━━━━━━\u001b[0m\u001b[37m\u001b[0m \u001b[1m0s\u001b[0m 10ms/step\n",
      "\u001b[1m1/1\u001b[0m \u001b[32m━━━━━━━━━━━━━━━━━━━━\u001b[0m\u001b[37m\u001b[0m \u001b[1m0s\u001b[0m 10ms/step\n",
      "\u001b[1m1/1\u001b[0m \u001b[32m━━━━━━━━━━━━━━━━━━━━\u001b[0m\u001b[37m\u001b[0m \u001b[1m0s\u001b[0m 11ms/step\n"
     ]
    },
    {
     "name": "stderr",
     "output_type": "stream",
     "text": [
      " 39%|███▊      | 133/345 [00:04<00:06, 30.66it/s]"
     ]
    },
    {
     "name": "stdout",
     "output_type": "stream",
     "text": [
      "\u001b[1m1/1\u001b[0m \u001b[32m━━━━━━━━━━━━━━━━━━━━\u001b[0m\u001b[37m\u001b[0m \u001b[1m0s\u001b[0m 9ms/step\n",
      "\u001b[1m1/1\u001b[0m \u001b[32m━━━━━━━━━━━━━━━━━━━━\u001b[0m\u001b[37m\u001b[0m \u001b[1m0s\u001b[0m 9ms/step\n",
      "\u001b[1m1/1\u001b[0m \u001b[32m━━━━━━━━━━━━━━━━━━━━\u001b[0m\u001b[37m\u001b[0m \u001b[1m0s\u001b[0m 11ms/step\n",
      "\u001b[1m1/1\u001b[0m \u001b[32m━━━━━━━━━━━━━━━━━━━━\u001b[0m\u001b[37m\u001b[0m \u001b[1m0s\u001b[0m 10ms/step\n"
     ]
    },
    {
     "name": "stderr",
     "output_type": "stream",
     "text": [
      " 40%|███▉      | 137/345 [00:04<00:06, 32.21it/s]"
     ]
    },
    {
     "name": "stdout",
     "output_type": "stream",
     "text": [
      "\u001b[1m1/1\u001b[0m \u001b[32m━━━━━━━━━━━━━━━━━━━━\u001b[0m\u001b[37m\u001b[0m \u001b[1m0s\u001b[0m 10ms/step\n",
      "\u001b[1m1/1\u001b[0m \u001b[32m━━━━━━━━━━━━━━━━━━━━\u001b[0m\u001b[37m\u001b[0m \u001b[1m0s\u001b[0m 10ms/step\n",
      "\u001b[1m1/1\u001b[0m \u001b[32m━━━━━━━━━━━━━━━━━━━━\u001b[0m\u001b[37m\u001b[0m \u001b[1m0s\u001b[0m 9ms/step\n",
      "\u001b[1m1/1\u001b[0m \u001b[32m━━━━━━━━━━━━━━━━━━━━\u001b[0m\u001b[37m\u001b[0m \u001b[1m0s\u001b[0m 10ms/step\n"
     ]
    },
    {
     "name": "stderr",
     "output_type": "stream",
     "text": [
      " 41%|████      | 141/345 [00:04<00:06, 33.79it/s]"
     ]
    },
    {
     "name": "stdout",
     "output_type": "stream",
     "text": [
      "\u001b[1m1/1\u001b[0m \u001b[32m━━━━━━━━━━━━━━━━━━━━\u001b[0m\u001b[37m\u001b[0m \u001b[1m0s\u001b[0m 9ms/step\n",
      "\u001b[1m1/1\u001b[0m \u001b[32m━━━━━━━━━━━━━━━━━━━━\u001b[0m\u001b[37m\u001b[0m \u001b[1m0s\u001b[0m 10ms/step\n",
      "\u001b[1m1/1\u001b[0m \u001b[32m━━━━━━━━━━━━━━━━━━━━\u001b[0m\u001b[37m\u001b[0m \u001b[1m0s\u001b[0m 9ms/step\n",
      "\u001b[1m1/1\u001b[0m \u001b[32m━━━━━━━━━━━━━━━━━━━━\u001b[0m\u001b[37m\u001b[0m \u001b[1m0s\u001b[0m 10ms/step\n"
     ]
    },
    {
     "name": "stderr",
     "output_type": "stream",
     "text": [
      " 42%|████▏     | 145/345 [00:04<00:05, 35.20it/s]"
     ]
    },
    {
     "name": "stdout",
     "output_type": "stream",
     "text": [
      "\u001b[1m1/1\u001b[0m \u001b[32m━━━━━━━━━━━━━━━━━━━━\u001b[0m\u001b[37m\u001b[0m \u001b[1m0s\u001b[0m 10ms/step\n",
      "\u001b[1m1/1\u001b[0m \u001b[32m━━━━━━━━━━━━━━━━━━━━\u001b[0m\u001b[37m\u001b[0m \u001b[1m0s\u001b[0m 10ms/step\n",
      "\u001b[1m1/1\u001b[0m \u001b[32m━━━━━━━━━━━━━━━━━━━━\u001b[0m\u001b[37m\u001b[0m \u001b[1m0s\u001b[0m 11ms/step\n",
      "\u001b[1m1/1\u001b[0m \u001b[32m━━━━━━━━━━━━━━━━━━━━\u001b[0m\u001b[37m\u001b[0m \u001b[1m0s\u001b[0m 9ms/step\n"
     ]
    },
    {
     "name": "stderr",
     "output_type": "stream",
     "text": [
      " 43%|████▎     | 149/345 [00:04<00:05, 35.77it/s]"
     ]
    },
    {
     "name": "stdout",
     "output_type": "stream",
     "text": [
      "\u001b[1m1/1\u001b[0m \u001b[32m━━━━━━━━━━━━━━━━━━━━\u001b[0m\u001b[37m\u001b[0m \u001b[1m0s\u001b[0m 10ms/step\n",
      "\u001b[1m1/1\u001b[0m \u001b[32m━━━━━━━━━━━━━━━━━━━━\u001b[0m\u001b[37m\u001b[0m \u001b[1m0s\u001b[0m 10ms/step\n",
      "\u001b[1m1/1\u001b[0m \u001b[32m━━━━━━━━━━━━━━━━━━━━\u001b[0m\u001b[37m\u001b[0m \u001b[1m0s\u001b[0m 10ms/step\n",
      "\u001b[1m1/1\u001b[0m \u001b[32m━━━━━━━━━━━━━━━━━━━━\u001b[0m\u001b[37m\u001b[0m \u001b[1m0s\u001b[0m 11ms/step\n"
     ]
    },
    {
     "name": "stderr",
     "output_type": "stream",
     "text": [
      " 44%|████▍     | 153/345 [00:04<00:05, 36.01it/s]"
     ]
    },
    {
     "name": "stdout",
     "output_type": "stream",
     "text": [
      "\u001b[1m1/1\u001b[0m \u001b[32m━━━━━━━━━━━━━━━━━━━━\u001b[0m\u001b[37m\u001b[0m \u001b[1m0s\u001b[0m 10ms/step\n",
      "\u001b[1m1/1\u001b[0m \u001b[32m━━━━━━━━━━━━━━━━━━━━\u001b[0m\u001b[37m\u001b[0m \u001b[1m0s\u001b[0m 10ms/step\n",
      "\u001b[1m1/1\u001b[0m \u001b[32m━━━━━━━━━━━━━━━━━━━━\u001b[0m\u001b[37m\u001b[0m \u001b[1m0s\u001b[0m 10ms/step\n",
      "\u001b[1m1/1\u001b[0m \u001b[32m━━━━━━━━━━━━━━━━━━━━\u001b[0m\u001b[37m\u001b[0m \u001b[1m0s\u001b[0m 10ms/step\n"
     ]
    },
    {
     "name": "stderr",
     "output_type": "stream",
     "text": [
      " 46%|████▌     | 157/345 [00:04<00:05, 36.18it/s]"
     ]
    },
    {
     "name": "stdout",
     "output_type": "stream",
     "text": [
      "\u001b[1m1/1\u001b[0m \u001b[32m━━━━━━━━━━━━━━━━━━━━\u001b[0m\u001b[37m\u001b[0m \u001b[1m0s\u001b[0m 9ms/step\n",
      "\u001b[1m1/1\u001b[0m \u001b[32m━━━━━━━━━━━━━━━━━━━━\u001b[0m\u001b[37m\u001b[0m \u001b[1m0s\u001b[0m 10ms/step\n",
      "\u001b[1m1/1\u001b[0m \u001b[32m━━━━━━━━━━━━━━━━━━━━\u001b[0m\u001b[37m\u001b[0m \u001b[1m0s\u001b[0m 11ms/step\n",
      "\u001b[1m1/1\u001b[0m \u001b[32m━━━━━━━━━━━━━━━━━━━━\u001b[0m\u001b[37m\u001b[0m \u001b[1m0s\u001b[0m 10ms/step\n"
     ]
    },
    {
     "name": "stderr",
     "output_type": "stream",
     "text": [
      " 47%|████▋     | 161/345 [00:04<00:05, 35.61it/s]"
     ]
    },
    {
     "name": "stdout",
     "output_type": "stream",
     "text": [
      "\u001b[1m1/1\u001b[0m \u001b[32m━━━━━━━━━━━━━━━━━━━━\u001b[0m\u001b[37m\u001b[0m \u001b[1m0s\u001b[0m 10ms/step\n",
      "\u001b[1m1/1\u001b[0m \u001b[32m━━━━━━━━━━━━━━━━━━━━\u001b[0m\u001b[37m\u001b[0m \u001b[1m0s\u001b[0m 10ms/step\n",
      "\u001b[1m1/1\u001b[0m \u001b[32m━━━━━━━━━━━━━━━━━━━━\u001b[0m\u001b[37m\u001b[0m \u001b[1m0s\u001b[0m 9ms/step\n",
      "\u001b[1m1/1\u001b[0m \u001b[32m━━━━━━━━━━━━━━━━━━━━\u001b[0m\u001b[37m\u001b[0m \u001b[1m0s\u001b[0m 10ms/step\n"
     ]
    },
    {
     "name": "stderr",
     "output_type": "stream",
     "text": [
      " 48%|████▊     | 165/345 [00:04<00:04, 36.35it/s]"
     ]
    },
    {
     "name": "stdout",
     "output_type": "stream",
     "text": [
      "\u001b[1m1/1\u001b[0m \u001b[32m━━━━━━━━━━━━━━━━━━━━\u001b[0m\u001b[37m\u001b[0m \u001b[1m0s\u001b[0m 9ms/step\n",
      "\u001b[1m1/1\u001b[0m \u001b[32m━━━━━━━━━━━━━━━━━━━━\u001b[0m\u001b[37m\u001b[0m \u001b[1m0s\u001b[0m 10ms/step\n",
      "\u001b[1m1/1\u001b[0m \u001b[32m━━━━━━━━━━━━━━━━━━━━\u001b[0m\u001b[37m\u001b[0m \u001b[1m0s\u001b[0m 9ms/step\n",
      "\u001b[1m1/1\u001b[0m \u001b[32m━━━━━━━━━━━━━━━━━━━━\u001b[0m\u001b[37m\u001b[0m \u001b[1m0s\u001b[0m 10ms/step\n"
     ]
    },
    {
     "name": "stderr",
     "output_type": "stream",
     "text": [
      " 49%|████▉     | 169/345 [00:05<00:04, 37.20it/s]"
     ]
    },
    {
     "name": "stdout",
     "output_type": "stream",
     "text": [
      "\u001b[1m1/1\u001b[0m \u001b[32m━━━━━━━━━━━━━━━━━━━━\u001b[0m\u001b[37m\u001b[0m \u001b[1m0s\u001b[0m 9ms/step\n",
      "\u001b[1m1/1\u001b[0m \u001b[32m━━━━━━━━━━━━━━━━━━━━\u001b[0m\u001b[37m\u001b[0m \u001b[1m0s\u001b[0m 10ms/step\n",
      "\u001b[1m1/1\u001b[0m \u001b[32m━━━━━━━━━━━━━━━━━━━━\u001b[0m\u001b[37m\u001b[0m \u001b[1m0s\u001b[0m 11ms/step\n",
      "\u001b[1m1/1\u001b[0m \u001b[32m━━━━━━━━━━━━━━━━━━━━\u001b[0m\u001b[37m\u001b[0m \u001b[1m0s\u001b[0m 10ms/step\n"
     ]
    },
    {
     "name": "stderr",
     "output_type": "stream",
     "text": [
      " 50%|█████     | 173/345 [00:05<00:04, 36.91it/s]"
     ]
    },
    {
     "name": "stdout",
     "output_type": "stream",
     "text": [
      "\u001b[1m1/1\u001b[0m \u001b[32m━━━━━━━━━━━━━━━━━━━━\u001b[0m\u001b[37m\u001b[0m \u001b[1m0s\u001b[0m 11ms/step\n",
      "\u001b[1m1/1\u001b[0m \u001b[32m━━━━━━━━━━━━━━━━━━━━\u001b[0m\u001b[37m\u001b[0m \u001b[1m0s\u001b[0m 10ms/step\n",
      "\u001b[1m1/1\u001b[0m \u001b[32m━━━━━━━━━━━━━━━━━━━━\u001b[0m\u001b[37m\u001b[0m \u001b[1m0s\u001b[0m 9ms/step\n",
      "\u001b[1m1/1\u001b[0m \u001b[32m━━━━━━━━━━━━━━━━━━━━\u001b[0m\u001b[37m\u001b[0m \u001b[1m0s\u001b[0m 10ms/step\n"
     ]
    },
    {
     "name": "stderr",
     "output_type": "stream",
     "text": [
      " 51%|█████▏    | 177/345 [00:05<00:04, 36.90it/s]"
     ]
    },
    {
     "name": "stdout",
     "output_type": "stream",
     "text": [
      "\u001b[1m1/1\u001b[0m \u001b[32m━━━━━━━━━━━━━━━━━━━━\u001b[0m\u001b[37m\u001b[0m \u001b[1m0s\u001b[0m 10ms/step\n",
      "\u001b[1m1/1\u001b[0m \u001b[32m━━━━━━━━━━━━━━━━━━━━\u001b[0m\u001b[37m\u001b[0m \u001b[1m0s\u001b[0m 9ms/step\n",
      "\u001b[1m1/1\u001b[0m \u001b[32m━━━━━━━━━━━━━━━━━━━━\u001b[0m\u001b[37m\u001b[0m \u001b[1m0s\u001b[0m 9ms/step\n",
      "\u001b[1m1/1\u001b[0m \u001b[32m━━━━━━━━━━━━━━━━━━━━\u001b[0m\u001b[37m\u001b[0m \u001b[1m0s\u001b[0m 9ms/step\n"
     ]
    },
    {
     "name": "stderr",
     "output_type": "stream",
     "text": [
      " 52%|█████▏    | 181/345 [00:05<00:04, 37.35it/s]"
     ]
    },
    {
     "name": "stdout",
     "output_type": "stream",
     "text": [
      "\u001b[1m1/1\u001b[0m \u001b[32m━━━━━━━━━━━━━━━━━━━━\u001b[0m\u001b[37m\u001b[0m \u001b[1m0s\u001b[0m 10ms/step\n",
      "\u001b[1m1/1\u001b[0m \u001b[32m━━━━━━━━━━━━━━━━━━━━\u001b[0m\u001b[37m\u001b[0m \u001b[1m0s\u001b[0m 10ms/step\n",
      "\u001b[1m1/1\u001b[0m \u001b[32m━━━━━━━━━━━━━━━━━━━━\u001b[0m\u001b[37m\u001b[0m \u001b[1m0s\u001b[0m 10ms/step\n",
      "\u001b[1m1/1\u001b[0m \u001b[32m━━━━━━━━━━━━━━━━━━━━\u001b[0m\u001b[37m\u001b[0m \u001b[1m0s\u001b[0m 11ms/step\n"
     ]
    },
    {
     "name": "stderr",
     "output_type": "stream",
     "text": [
      " 54%|█████▎    | 185/345 [00:05<00:04, 37.24it/s]"
     ]
    },
    {
     "name": "stdout",
     "output_type": "stream",
     "text": [
      "\u001b[1m1/1\u001b[0m \u001b[32m━━━━━━━━━━━━━━━━━━━━\u001b[0m\u001b[37m\u001b[0m \u001b[1m0s\u001b[0m 9ms/step\n",
      "\u001b[1m1/1\u001b[0m \u001b[32m━━━━━━━━━━━━━━━━━━━━\u001b[0m\u001b[37m\u001b[0m \u001b[1m0s\u001b[0m 15ms/step\n",
      "\u001b[1m1/1\u001b[0m \u001b[32m━━━━━━━━━━━━━━━━━━━━\u001b[0m\u001b[37m\u001b[0m \u001b[1m0s\u001b[0m 10ms/step\n",
      "\u001b[1m1/1\u001b[0m \u001b[32m━━━━━━━━━━━━━━━━━━━━\u001b[0m\u001b[37m\u001b[0m \u001b[1m0s\u001b[0m 9ms/step\n"
     ]
    },
    {
     "name": "stderr",
     "output_type": "stream",
     "text": [
      " 55%|█████▍    | 189/345 [00:05<00:04, 36.81it/s]"
     ]
    },
    {
     "name": "stdout",
     "output_type": "stream",
     "text": [
      "\u001b[1m1/1\u001b[0m \u001b[32m━━━━━━━━━━━━━━━━━━━━\u001b[0m\u001b[37m\u001b[0m \u001b[1m0s\u001b[0m 9ms/step\n",
      "\u001b[1m1/1\u001b[0m \u001b[32m━━━━━━━━━━━━━━━━━━━━\u001b[0m\u001b[37m\u001b[0m \u001b[1m0s\u001b[0m 37ms/step\n",
      "\u001b[1m1/1\u001b[0m \u001b[32m━━━━━━━━━━━━━━━━━━━━\u001b[0m\u001b[37m\u001b[0m \u001b[1m0s\u001b[0m 10ms/step\n",
      "\u001b[1m1/1\u001b[0m \u001b[32m━━━━━━━━━━━━━━━━━━━━\u001b[0m\u001b[37m\u001b[0m \u001b[1m0s\u001b[0m 9ms/step\n"
     ]
    },
    {
     "name": "stderr",
     "output_type": "stream",
     "text": [
      " 56%|█████▌    | 193/345 [00:05<00:04, 34.86it/s]"
     ]
    },
    {
     "name": "stdout",
     "output_type": "stream",
     "text": [
      "\u001b[1m1/1\u001b[0m \u001b[32m━━━━━━━━━━━━━━━━━━━━\u001b[0m\u001b[37m\u001b[0m \u001b[1m0s\u001b[0m 12ms/step\n",
      "\u001b[1m1/1\u001b[0m \u001b[32m━━━━━━━━━━━━━━━━━━━━\u001b[0m\u001b[37m\u001b[0m \u001b[1m0s\u001b[0m 10ms/step\n",
      "\u001b[1m1/1\u001b[0m \u001b[32m━━━━━━━━━━━━━━━━━━━━\u001b[0m\u001b[37m\u001b[0m \u001b[1m0s\u001b[0m 10ms/step\n",
      "\u001b[1m1/1\u001b[0m \u001b[32m━━━━━━━━━━━━━━━━━━━━\u001b[0m\u001b[37m\u001b[0m \u001b[1m0s\u001b[0m 10ms/step\n"
     ]
    },
    {
     "name": "stderr",
     "output_type": "stream",
     "text": [
      " 57%|█████▋    | 197/345 [00:05<00:04, 35.52it/s]"
     ]
    },
    {
     "name": "stdout",
     "output_type": "stream",
     "text": [
      "\u001b[1m1/1\u001b[0m \u001b[32m━━━━━━━━━━━━━━━━━━━━\u001b[0m\u001b[37m\u001b[0m \u001b[1m0s\u001b[0m 10ms/step\n",
      "\u001b[1m1/1\u001b[0m \u001b[32m━━━━━━━━━━━━━━━━━━━━\u001b[0m\u001b[37m\u001b[0m \u001b[1m0s\u001b[0m 9ms/step\n",
      "\u001b[1m1/1\u001b[0m \u001b[32m━━━━━━━━━━━━━━━━━━━━\u001b[0m\u001b[37m\u001b[0m \u001b[1m0s\u001b[0m 10ms/step\n",
      "\u001b[1m1/1\u001b[0m \u001b[32m━━━━━━━━━━━━━━━━━━━━\u001b[0m\u001b[37m\u001b[0m \u001b[1m0s\u001b[0m 10ms/step\n"
     ]
    },
    {
     "name": "stderr",
     "output_type": "stream",
     "text": [
      " 58%|█████▊    | 201/345 [00:05<00:04, 35.88it/s]"
     ]
    },
    {
     "name": "stdout",
     "output_type": "stream",
     "text": [
      "\u001b[1m1/1\u001b[0m \u001b[32m━━━━━━━━━━━━━━━━━━━━\u001b[0m\u001b[37m\u001b[0m \u001b[1m0s\u001b[0m 10ms/step\n",
      "\u001b[1m1/1\u001b[0m \u001b[32m━━━━━━━━━━━━━━━━━━━━\u001b[0m\u001b[37m\u001b[0m \u001b[1m0s\u001b[0m 9ms/step\n",
      "\u001b[1m1/1\u001b[0m \u001b[32m━━━━━━━━━━━━━━━━━━━━\u001b[0m\u001b[37m\u001b[0m \u001b[1m0s\u001b[0m 10ms/step\n",
      "\u001b[1m1/1\u001b[0m \u001b[32m━━━━━━━━━━━━━━━━━━━━\u001b[0m\u001b[37m\u001b[0m \u001b[1m0s\u001b[0m 10ms/step\n"
     ]
    },
    {
     "name": "stderr",
     "output_type": "stream",
     "text": [
      " 59%|█████▉    | 205/345 [00:06<00:03, 36.38it/s]"
     ]
    },
    {
     "name": "stdout",
     "output_type": "stream",
     "text": [
      "\u001b[1m1/1\u001b[0m \u001b[32m━━━━━━━━━━━━━━━━━━━━\u001b[0m\u001b[37m\u001b[0m \u001b[1m0s\u001b[0m 9ms/step\n",
      "\u001b[1m1/1\u001b[0m \u001b[32m━━━━━━━━━━━━━━━━━━━━\u001b[0m\u001b[37m\u001b[0m \u001b[1m0s\u001b[0m 10ms/step\n",
      "\u001b[1m1/1\u001b[0m \u001b[32m━━━━━━━━━━━━━━━━━━━━\u001b[0m\u001b[37m\u001b[0m \u001b[1m0s\u001b[0m 10ms/step\n",
      "\u001b[1m1/1\u001b[0m \u001b[32m━━━━━━━━━━━━━━━━━━━━\u001b[0m\u001b[37m\u001b[0m \u001b[1m0s\u001b[0m 10ms/step\n"
     ]
    },
    {
     "name": "stderr",
     "output_type": "stream",
     "text": [
      " 61%|██████    | 209/345 [00:06<00:03, 36.47it/s]"
     ]
    },
    {
     "name": "stdout",
     "output_type": "stream",
     "text": [
      "\u001b[1m1/1\u001b[0m \u001b[32m━━━━━━━━━━━━━━━━━━━━\u001b[0m\u001b[37m\u001b[0m \u001b[1m0s\u001b[0m 10ms/step\n",
      "\u001b[1m1/1\u001b[0m \u001b[32m━━━━━━━━━━━━━━━━━━━━\u001b[0m\u001b[37m\u001b[0m \u001b[1m0s\u001b[0m 9ms/step\n",
      "\u001b[1m1/1\u001b[0m \u001b[32m━━━━━━━━━━━━━━━━━━━━\u001b[0m\u001b[37m\u001b[0m \u001b[1m0s\u001b[0m 10ms/step\n",
      "\u001b[1m1/1\u001b[0m \u001b[32m━━━━━━━━━━━━━━━━━━━━\u001b[0m\u001b[37m\u001b[0m \u001b[1m0s\u001b[0m 10ms/step\n"
     ]
    },
    {
     "name": "stderr",
     "output_type": "stream",
     "text": [
      " 62%|██████▏   | 213/345 [00:06<00:03, 36.77it/s]"
     ]
    },
    {
     "name": "stdout",
     "output_type": "stream",
     "text": [
      "\u001b[1m1/1\u001b[0m \u001b[32m━━━━━━━━━━━━━━━━━━━━\u001b[0m\u001b[37m\u001b[0m \u001b[1m0s\u001b[0m 9ms/step\n",
      "\u001b[1m1/1\u001b[0m \u001b[32m━━━━━━━━━━━━━━━━━━━━\u001b[0m\u001b[37m\u001b[0m \u001b[1m0s\u001b[0m 10ms/step\n",
      "\u001b[1m1/1\u001b[0m \u001b[32m━━━━━━━━━━━━━━━━━━━━\u001b[0m\u001b[37m\u001b[0m \u001b[1m0s\u001b[0m 10ms/step\n",
      "\u001b[1m1/1\u001b[0m \u001b[32m━━━━━━━━━━━━━━━━━━━━\u001b[0m\u001b[37m\u001b[0m \u001b[1m0s\u001b[0m 10ms/step\n"
     ]
    },
    {
     "name": "stderr",
     "output_type": "stream",
     "text": [
      " 63%|██████▎   | 217/345 [00:06<00:03, 37.30it/s]"
     ]
    },
    {
     "name": "stdout",
     "output_type": "stream",
     "text": [
      "\u001b[1m1/1\u001b[0m \u001b[32m━━━━━━━━━━━━━━━━━━━━\u001b[0m\u001b[37m\u001b[0m \u001b[1m0s\u001b[0m 9ms/step\n",
      "\u001b[1m1/1\u001b[0m \u001b[32m━━━━━━━━━━━━━━━━━━━━\u001b[0m\u001b[37m\u001b[0m \u001b[1m0s\u001b[0m 10ms/step\n",
      "\u001b[1m1/1\u001b[0m \u001b[32m━━━━━━━━━━━━━━━━━━━━\u001b[0m\u001b[37m\u001b[0m \u001b[1m0s\u001b[0m 10ms/step\n",
      "\u001b[1m1/1\u001b[0m \u001b[32m━━━━━━━━━━━━━━━━━━━━\u001b[0m\u001b[37m\u001b[0m \u001b[1m0s\u001b[0m 10ms/step\n"
     ]
    },
    {
     "name": "stderr",
     "output_type": "stream",
     "text": [
      " 64%|██████▍   | 221/345 [00:06<00:03, 37.14it/s]"
     ]
    },
    {
     "name": "stdout",
     "output_type": "stream",
     "text": [
      "\u001b[1m1/1\u001b[0m \u001b[32m━━━━━━━━━━━━━━━━━━━━\u001b[0m\u001b[37m\u001b[0m \u001b[1m0s\u001b[0m 11ms/step\n",
      "\u001b[1m1/1\u001b[0m \u001b[32m━━━━━━━━━━━━━━━━━━━━\u001b[0m\u001b[37m\u001b[0m \u001b[1m0s\u001b[0m 10ms/step\n",
      "\u001b[1m1/1\u001b[0m \u001b[32m━━━━━━━━━━━━━━━━━━━━\u001b[0m\u001b[37m\u001b[0m \u001b[1m0s\u001b[0m 9ms/step\n",
      "\u001b[1m1/1\u001b[0m \u001b[32m━━━━━━━━━━━━━━━━━━━━\u001b[0m\u001b[37m\u001b[0m \u001b[1m0s\u001b[0m 9ms/step\n"
     ]
    },
    {
     "name": "stderr",
     "output_type": "stream",
     "text": [
      " 65%|██████▌   | 225/345 [00:06<00:03, 36.60it/s]"
     ]
    },
    {
     "name": "stdout",
     "output_type": "stream",
     "text": [
      "\u001b[1m1/1\u001b[0m \u001b[32m━━━━━━━━━━━━━━━━━━━━\u001b[0m\u001b[37m\u001b[0m \u001b[1m0s\u001b[0m 11ms/step\n",
      "\u001b[1m1/1\u001b[0m \u001b[32m━━━━━━━━━━━━━━━━━━━━\u001b[0m\u001b[37m\u001b[0m \u001b[1m0s\u001b[0m 9ms/step\n",
      "\u001b[1m1/1\u001b[0m \u001b[32m━━━━━━━━━━━━━━━━━━━━\u001b[0m\u001b[37m\u001b[0m \u001b[1m0s\u001b[0m 10ms/step\n",
      "\u001b[1m1/1\u001b[0m \u001b[32m━━━━━━━━━━━━━━━━━━━━\u001b[0m\u001b[37m\u001b[0m \u001b[1m0s\u001b[0m 10ms/step\n"
     ]
    },
    {
     "name": "stderr",
     "output_type": "stream",
     "text": [
      " 66%|██████▋   | 229/345 [00:06<00:03, 36.72it/s]"
     ]
    },
    {
     "name": "stdout",
     "output_type": "stream",
     "text": [
      "\u001b[1m1/1\u001b[0m \u001b[32m━━━━━━━━━━━━━━━━━━━━\u001b[0m\u001b[37m\u001b[0m \u001b[1m0s\u001b[0m 9ms/step\n",
      "\u001b[1m1/1\u001b[0m \u001b[32m━━━━━━━━━━━━━━━━━━━━\u001b[0m\u001b[37m\u001b[0m \u001b[1m0s\u001b[0m 10ms/step\n",
      "\u001b[1m1/1\u001b[0m \u001b[32m━━━━━━━━━━━━━━━━━━━━\u001b[0m\u001b[37m\u001b[0m \u001b[1m0s\u001b[0m 9ms/step\n",
      "\u001b[1m1/1\u001b[0m \u001b[32m━━━━━━━━━━━━━━━━━━━━\u001b[0m\u001b[37m\u001b[0m \u001b[1m0s\u001b[0m 10ms/step\n"
     ]
    },
    {
     "name": "stderr",
     "output_type": "stream",
     "text": [
      " 68%|██████▊   | 233/345 [00:06<00:03, 37.24it/s]"
     ]
    },
    {
     "name": "stdout",
     "output_type": "stream",
     "text": [
      "\u001b[1m1/1\u001b[0m \u001b[32m━━━━━━━━━━━━━━━━━━━━\u001b[0m\u001b[37m\u001b[0m \u001b[1m0s\u001b[0m 10ms/step\n",
      "\u001b[1m1/1\u001b[0m \u001b[32m━━━━━━━━━━━━━━━━━━━━\u001b[0m\u001b[37m\u001b[0m \u001b[1m0s\u001b[0m 16ms/step\n",
      "\u001b[1m1/1\u001b[0m \u001b[32m━━━━━━━━━━━━━━━━━━━━\u001b[0m\u001b[37m\u001b[0m \u001b[1m0s\u001b[0m 10ms/step\n",
      "\u001b[1m1/1\u001b[0m \u001b[32m━━━━━━━━━━━━━━━━━━━━\u001b[0m\u001b[37m\u001b[0m \u001b[1m0s\u001b[0m 11ms/step\n"
     ]
    },
    {
     "name": "stderr",
     "output_type": "stream",
     "text": [
      " 69%|██████▊   | 237/345 [00:06<00:03, 34.56it/s]"
     ]
    },
    {
     "name": "stdout",
     "output_type": "stream",
     "text": [
      "\u001b[1m1/1\u001b[0m \u001b[32m━━━━━━━━━━━━━━━━━━━━\u001b[0m\u001b[37m\u001b[0m \u001b[1m0s\u001b[0m 10ms/step\n",
      "\u001b[1m1/1\u001b[0m \u001b[32m━━━━━━━━━━━━━━━━━━━━\u001b[0m\u001b[37m\u001b[0m \u001b[1m0s\u001b[0m 9ms/step\n",
      "\u001b[1m1/1\u001b[0m \u001b[32m━━━━━━━━━━━━━━━━━━━━\u001b[0m\u001b[37m\u001b[0m \u001b[1m0s\u001b[0m 10ms/step\n",
      "\u001b[1m1/1\u001b[0m \u001b[32m━━━━━━━━━━━━━━━━━━━━\u001b[0m\u001b[37m\u001b[0m \u001b[1m0s\u001b[0m 10ms/step\n"
     ]
    },
    {
     "name": "stderr",
     "output_type": "stream",
     "text": [
      " 70%|██████▉   | 241/345 [00:07<00:02, 35.34it/s]"
     ]
    },
    {
     "name": "stdout",
     "output_type": "stream",
     "text": [
      "\u001b[1m1/1\u001b[0m \u001b[32m━━━━━━━━━━━━━━━━━━━━\u001b[0m\u001b[37m\u001b[0m \u001b[1m0s\u001b[0m 10ms/step\n",
      "\u001b[1m1/1\u001b[0m \u001b[32m━━━━━━━━━━━━━━━━━━━━\u001b[0m\u001b[37m\u001b[0m \u001b[1m0s\u001b[0m 10ms/step\n",
      "\u001b[1m1/1\u001b[0m \u001b[32m━━━━━━━━━━━━━━━━━━━━\u001b[0m\u001b[37m\u001b[0m \u001b[1m0s\u001b[0m 9ms/step\n",
      "\u001b[1m1/1\u001b[0m \u001b[32m━━━━━━━━━━━━━━━━━━━━\u001b[0m\u001b[37m\u001b[0m \u001b[1m0s\u001b[0m 10ms/step\n"
     ]
    },
    {
     "name": "stderr",
     "output_type": "stream",
     "text": [
      " 71%|███████   | 245/345 [00:07<00:02, 35.73it/s]"
     ]
    },
    {
     "name": "stdout",
     "output_type": "stream",
     "text": [
      "\u001b[1m1/1\u001b[0m \u001b[32m━━━━━━━━━━━━━━━━━━━━\u001b[0m\u001b[37m\u001b[0m \u001b[1m0s\u001b[0m 9ms/step\n",
      "\u001b[1m1/1\u001b[0m \u001b[32m━━━━━━━━━━━━━━━━━━━━\u001b[0m\u001b[37m\u001b[0m \u001b[1m0s\u001b[0m 9ms/step\n",
      "\u001b[1m1/1\u001b[0m \u001b[32m━━━━━━━━━━━━━━━━━━━━\u001b[0m\u001b[37m\u001b[0m \u001b[1m0s\u001b[0m 10ms/step\n",
      "\u001b[1m1/1\u001b[0m \u001b[32m━━━━━━━━━━━━━━━━━━━━\u001b[0m\u001b[37m\u001b[0m \u001b[1m0s\u001b[0m 10ms/step\n"
     ]
    },
    {
     "name": "stderr",
     "output_type": "stream",
     "text": [
      " 72%|███████▏  | 249/345 [00:07<00:02, 36.58it/s]"
     ]
    },
    {
     "name": "stdout",
     "output_type": "stream",
     "text": [
      "\u001b[1m1/1\u001b[0m \u001b[32m━━━━━━━━━━━━━━━━━━━━\u001b[0m\u001b[37m\u001b[0m \u001b[1m0s\u001b[0m 10ms/step\n",
      "\u001b[1m1/1\u001b[0m \u001b[32m━━━━━━━━━━━━━━━━━━━━\u001b[0m\u001b[37m\u001b[0m \u001b[1m0s\u001b[0m 9ms/step\n",
      "\u001b[1m1/1\u001b[0m \u001b[32m━━━━━━━━━━━━━━━━━━━━\u001b[0m\u001b[37m\u001b[0m \u001b[1m0s\u001b[0m 9ms/step\n",
      "\u001b[1m1/1\u001b[0m \u001b[32m━━━━━━━━━━━━━━━━━━━━\u001b[0m\u001b[37m\u001b[0m \u001b[1m0s\u001b[0m 10ms/step\n",
      "\u001b[1m1/1\u001b[0m \u001b[32m━━━━━━━━━━━━━━━━━━━━\u001b[0m\u001b[37m\u001b[0m \u001b[1m0s\u001b[0m 9ms/step\n"
     ]
    },
    {
     "name": "stderr",
     "output_type": "stream",
     "text": [
      " 74%|███████▎  | 254/345 [00:07<00:02, 38.01it/s]"
     ]
    },
    {
     "name": "stdout",
     "output_type": "stream",
     "text": [
      "\u001b[1m1/1\u001b[0m \u001b[32m━━━━━━━━━━━━━━━━━━━━\u001b[0m\u001b[37m\u001b[0m \u001b[1m0s\u001b[0m 10ms/step\n",
      "\u001b[1m1/1\u001b[0m \u001b[32m━━━━━━━━━━━━━━━━━━━━\u001b[0m\u001b[37m\u001b[0m \u001b[1m0s\u001b[0m 10ms/step\n",
      "\u001b[1m1/1\u001b[0m \u001b[32m━━━━━━━━━━━━━━━━━━━━\u001b[0m\u001b[37m\u001b[0m \u001b[1m0s\u001b[0m 10ms/step\n",
      "\u001b[1m1/1\u001b[0m \u001b[32m━━━━━━━━━━━━━━━━━━━━\u001b[0m\u001b[37m\u001b[0m \u001b[1m0s\u001b[0m 10ms/step\n"
     ]
    },
    {
     "name": "stderr",
     "output_type": "stream",
     "text": [
      " 75%|███████▍  | 258/345 [00:07<00:02, 38.04it/s]"
     ]
    },
    {
     "name": "stdout",
     "output_type": "stream",
     "text": [
      "\u001b[1m1/1\u001b[0m \u001b[32m━━━━━━━━━━━━━━━━━━━━\u001b[0m\u001b[37m\u001b[0m \u001b[1m0s\u001b[0m 9ms/step\n",
      "\u001b[1m1/1\u001b[0m \u001b[32m━━━━━━━━━━━━━━━━━━━━\u001b[0m\u001b[37m\u001b[0m \u001b[1m0s\u001b[0m 11ms/step\n",
      "\u001b[1m1/1\u001b[0m \u001b[32m━━━━━━━━━━━━━━━━━━━━\u001b[0m\u001b[37m\u001b[0m \u001b[1m0s\u001b[0m 10ms/step\n",
      "\u001b[1m1/1\u001b[0m \u001b[32m━━━━━━━━━━━━━━━━━━━━\u001b[0m\u001b[37m\u001b[0m \u001b[1m0s\u001b[0m 10ms/step\n"
     ]
    },
    {
     "name": "stderr",
     "output_type": "stream",
     "text": [
      " 76%|███████▌  | 262/345 [00:07<00:02, 38.04it/s]"
     ]
    },
    {
     "name": "stdout",
     "output_type": "stream",
     "text": [
      "\u001b[1m1/1\u001b[0m \u001b[32m━━━━━━━━━━━━━━━━━━━━\u001b[0m\u001b[37m\u001b[0m \u001b[1m0s\u001b[0m 9ms/step\n",
      "\u001b[1m1/1\u001b[0m \u001b[32m━━━━━━━━━━━━━━━━━━━━\u001b[0m\u001b[37m\u001b[0m \u001b[1m0s\u001b[0m 10ms/step\n",
      "\u001b[1m1/1\u001b[0m \u001b[32m━━━━━━━━━━━━━━━━━━━━\u001b[0m\u001b[37m\u001b[0m \u001b[1m0s\u001b[0m 10ms/step\n",
      "\u001b[1m1/1\u001b[0m \u001b[32m━━━━━━━━━━━━━━━━━━━━\u001b[0m\u001b[37m\u001b[0m \u001b[1m0s\u001b[0m 10ms/step\n"
     ]
    },
    {
     "name": "stderr",
     "output_type": "stream",
     "text": [
      " 77%|███████▋  | 266/345 [00:07<00:02, 38.26it/s]"
     ]
    },
    {
     "name": "stdout",
     "output_type": "stream",
     "text": [
      "\u001b[1m1/1\u001b[0m \u001b[32m━━━━━━━━━━━━━━━━━━━━\u001b[0m\u001b[37m\u001b[0m \u001b[1m0s\u001b[0m 11ms/step\n",
      "\u001b[1m1/1\u001b[0m \u001b[32m━━━━━━━━━━━━━━━━━━━━\u001b[0m\u001b[37m\u001b[0m \u001b[1m0s\u001b[0m 11ms/step\n",
      "\u001b[1m1/1\u001b[0m \u001b[32m━━━━━━━━━━━━━━━━━━━━\u001b[0m\u001b[37m\u001b[0m \u001b[1m0s\u001b[0m 9ms/step\n",
      "\u001b[1m1/1\u001b[0m \u001b[32m━━━━━━━━━━━━━━━━━━━━\u001b[0m\u001b[37m\u001b[0m \u001b[1m0s\u001b[0m 9ms/step\n"
     ]
    },
    {
     "name": "stderr",
     "output_type": "stream",
     "text": [
      " 78%|███████▊  | 270/345 [00:07<00:02, 34.67it/s]"
     ]
    },
    {
     "name": "stdout",
     "output_type": "stream",
     "text": [
      "\u001b[1m1/1\u001b[0m \u001b[32m━━━━━━━━━━━━━━━━━━━━\u001b[0m\u001b[37m\u001b[0m \u001b[1m0s\u001b[0m 10ms/step\n",
      "\u001b[1m1/1\u001b[0m \u001b[32m━━━━━━━━━━━━━━━━━━━━\u001b[0m\u001b[37m\u001b[0m \u001b[1m0s\u001b[0m 10ms/step\n",
      "\u001b[1m1/1\u001b[0m \u001b[32m━━━━━━━━━━━━━━━━━━━━\u001b[0m\u001b[37m\u001b[0m \u001b[1m0s\u001b[0m 10ms/step\n",
      "\u001b[1m1/1\u001b[0m \u001b[32m━━━━━━━━━━━━━━━━━━━━\u001b[0m\u001b[37m\u001b[0m \u001b[1m0s\u001b[0m 9ms/step\n"
     ]
    },
    {
     "name": "stderr",
     "output_type": "stream",
     "text": [
      " 79%|███████▉  | 274/345 [00:07<00:02, 35.44it/s]"
     ]
    },
    {
     "name": "stdout",
     "output_type": "stream",
     "text": [
      "\u001b[1m1/1\u001b[0m \u001b[32m━━━━━━━━━━━━━━━━━━━━\u001b[0m\u001b[37m\u001b[0m \u001b[1m0s\u001b[0m 10ms/step\n",
      "\u001b[1m1/1\u001b[0m \u001b[32m━━━━━━━━━━━━━━━━━━━━\u001b[0m\u001b[37m\u001b[0m \u001b[1m0s\u001b[0m 9ms/step\n",
      "\u001b[1m1/1\u001b[0m \u001b[32m━━━━━━━━━━━━━━━━━━━━\u001b[0m\u001b[37m\u001b[0m \u001b[1m0s\u001b[0m 9ms/step\n",
      "\u001b[1m1/1\u001b[0m \u001b[32m━━━━━━━━━━━━━━━━━━━━\u001b[0m\u001b[37m\u001b[0m \u001b[1m0s\u001b[0m 9ms/step\n"
     ]
    },
    {
     "name": "stderr",
     "output_type": "stream",
     "text": [
      " 81%|████████  | 278/345 [00:08<00:01, 36.59it/s]"
     ]
    },
    {
     "name": "stdout",
     "output_type": "stream",
     "text": [
      "\u001b[1m1/1\u001b[0m \u001b[32m━━━━━━━━━━━━━━━━━━━━\u001b[0m\u001b[37m\u001b[0m \u001b[1m0s\u001b[0m 10ms/step\n",
      "\u001b[1m1/1\u001b[0m \u001b[32m━━━━━━━━━━━━━━━━━━━━\u001b[0m\u001b[37m\u001b[0m \u001b[1m0s\u001b[0m 9ms/step\n",
      "\u001b[1m1/1\u001b[0m \u001b[32m━━━━━━━━━━━━━━━━━━━━\u001b[0m\u001b[37m\u001b[0m \u001b[1m0s\u001b[0m 9ms/step\n",
      "\u001b[1m1/1\u001b[0m \u001b[32m━━━━━━━━━━━━━━━━━━━━\u001b[0m\u001b[37m\u001b[0m \u001b[1m0s\u001b[0m 71ms/step\n"
     ]
    },
    {
     "name": "stderr",
     "output_type": "stream",
     "text": [
      " 82%|████████▏ | 282/345 [00:08<00:02, 29.88it/s]"
     ]
    },
    {
     "name": "stdout",
     "output_type": "stream",
     "text": [
      "\u001b[1m1/1\u001b[0m \u001b[32m━━━━━━━━━━━━━━━━━━━━\u001b[0m\u001b[37m\u001b[0m \u001b[1m0s\u001b[0m 10ms/step\n",
      "\u001b[1m1/1\u001b[0m \u001b[32m━━━━━━━━━━━━━━━━━━━━\u001b[0m\u001b[37m\u001b[0m \u001b[1m0s\u001b[0m 11ms/step\n",
      "\u001b[1m1/1\u001b[0m \u001b[32m━━━━━━━━━━━━━━━━━━━━\u001b[0m\u001b[37m\u001b[0m \u001b[1m0s\u001b[0m 11ms/step\n",
      "\u001b[1m1/1\u001b[0m \u001b[32m━━━━━━━━━━━━━━━━━━━━\u001b[0m\u001b[37m\u001b[0m \u001b[1m0s\u001b[0m 10ms/step\n"
     ]
    },
    {
     "name": "stderr",
     "output_type": "stream",
     "text": [
      " 83%|████████▎ | 286/345 [00:08<00:01, 31.12it/s]"
     ]
    },
    {
     "name": "stdout",
     "output_type": "stream",
     "text": [
      "\u001b[1m1/1\u001b[0m \u001b[32m━━━━━━━━━━━━━━━━━━━━\u001b[0m\u001b[37m\u001b[0m \u001b[1m0s\u001b[0m 11ms/step\n",
      "\u001b[1m1/1\u001b[0m \u001b[32m━━━━━━━━━━━━━━━━━━━━\u001b[0m\u001b[37m\u001b[0m \u001b[1m0s\u001b[0m 10ms/step\n",
      "\u001b[1m1/1\u001b[0m \u001b[32m━━━━━━━━━━━━━━━━━━━━\u001b[0m\u001b[37m\u001b[0m \u001b[1m0s\u001b[0m 11ms/step\n",
      "\u001b[1m1/1\u001b[0m \u001b[32m━━━━━━━━━━━━━━━━━━━━\u001b[0m\u001b[37m\u001b[0m \u001b[1m0s\u001b[0m 11ms/step\n"
     ]
    },
    {
     "name": "stderr",
     "output_type": "stream",
     "text": [
      " 84%|████████▍ | 290/345 [00:08<00:01, 31.71it/s]"
     ]
    },
    {
     "name": "stdout",
     "output_type": "stream",
     "text": [
      "\u001b[1m1/1\u001b[0m \u001b[32m━━━━━━━━━━━━━━━━━━━━\u001b[0m\u001b[37m\u001b[0m \u001b[1m0s\u001b[0m 11ms/step\n",
      "\u001b[1m1/1\u001b[0m \u001b[32m━━━━━━━━━━━━━━━━━━━━\u001b[0m\u001b[37m\u001b[0m \u001b[1m0s\u001b[0m 11ms/step\n",
      "\u001b[1m1/1\u001b[0m \u001b[32m━━━━━━━━━━━━━━━━━━━━\u001b[0m\u001b[37m\u001b[0m \u001b[1m0s\u001b[0m 10ms/step\n",
      "\u001b[1m1/1\u001b[0m \u001b[32m━━━━━━━━━━━━━━━━━━━━\u001b[0m\u001b[37m\u001b[0m \u001b[1m0s\u001b[0m 11ms/step\n"
     ]
    },
    {
     "name": "stderr",
     "output_type": "stream",
     "text": [
      " 85%|████████▌ | 294/345 [00:08<00:01, 32.16it/s]"
     ]
    },
    {
     "name": "stdout",
     "output_type": "stream",
     "text": [
      "\u001b[1m1/1\u001b[0m \u001b[32m━━━━━━━━━━━━━━━━━━━━\u001b[0m\u001b[37m\u001b[0m \u001b[1m0s\u001b[0m 10ms/step\n",
      "\u001b[1m1/1\u001b[0m \u001b[32m━━━━━━━━━━━━━━━━━━━━\u001b[0m\u001b[37m\u001b[0m \u001b[1m0s\u001b[0m 10ms/step\n",
      "\u001b[1m1/1\u001b[0m \u001b[32m━━━━━━━━━━━━━━━━━━━━\u001b[0m\u001b[37m\u001b[0m \u001b[1m0s\u001b[0m 11ms/step\n",
      "\u001b[1m1/1\u001b[0m \u001b[32m━━━━━━━━━━━━━━━━━━━━\u001b[0m\u001b[37m\u001b[0m \u001b[1m0s\u001b[0m 9ms/step\n"
     ]
    },
    {
     "name": "stderr",
     "output_type": "stream",
     "text": [
      " 86%|████████▋ | 298/345 [00:08<00:01, 33.46it/s]"
     ]
    },
    {
     "name": "stdout",
     "output_type": "stream",
     "text": [
      "\u001b[1m1/1\u001b[0m \u001b[32m━━━━━━━━━━━━━━━━━━━━\u001b[0m\u001b[37m\u001b[0m \u001b[1m0s\u001b[0m 11ms/step\n",
      "\u001b[1m1/1\u001b[0m \u001b[32m━━━━━━━━━━━━━━━━━━━━\u001b[0m\u001b[37m\u001b[0m \u001b[1m0s\u001b[0m 16ms/step\n",
      "\u001b[1m1/1\u001b[0m \u001b[32m━━━━━━━━━━━━━━━━━━━━\u001b[0m\u001b[37m\u001b[0m \u001b[1m0s\u001b[0m 10ms/step\n",
      "\u001b[1m1/1\u001b[0m \u001b[32m━━━━━━━━━━━━━━━━━━━━\u001b[0m\u001b[37m\u001b[0m \u001b[1m0s\u001b[0m 11ms/step\n"
     ]
    },
    {
     "name": "stderr",
     "output_type": "stream",
     "text": [
      " 88%|████████▊ | 302/345 [00:08<00:01, 31.77it/s]"
     ]
    },
    {
     "name": "stdout",
     "output_type": "stream",
     "text": [
      "\u001b[1m1/1\u001b[0m \u001b[32m━━━━━━━━━━━━━━━━━━━━\u001b[0m\u001b[37m\u001b[0m \u001b[1m0s\u001b[0m 10ms/step\n",
      "\u001b[1m1/1\u001b[0m \u001b[32m━━━━━━━━━━━━━━━━━━━━\u001b[0m\u001b[37m\u001b[0m \u001b[1m0s\u001b[0m 9ms/step\n",
      "\u001b[1m1/1\u001b[0m \u001b[32m━━━━━━━━━━━━━━━━━━━━\u001b[0m\u001b[37m\u001b[0m \u001b[1m0s\u001b[0m 11ms/step\n",
      "\u001b[1m1/1\u001b[0m \u001b[32m━━━━━━━━━━━━━━━━━━━━\u001b[0m\u001b[37m\u001b[0m \u001b[1m0s\u001b[0m 11ms/step\n"
     ]
    },
    {
     "name": "stderr",
     "output_type": "stream",
     "text": [
      " 89%|████████▊ | 306/345 [00:08<00:01, 32.69it/s]"
     ]
    },
    {
     "name": "stdout",
     "output_type": "stream",
     "text": [
      "\u001b[1m1/1\u001b[0m \u001b[32m━━━━━━━━━━━━━━━━━━━━\u001b[0m\u001b[37m\u001b[0m \u001b[1m0s\u001b[0m 9ms/step\n",
      "\u001b[1m1/1\u001b[0m \u001b[32m━━━━━━━━━━━━━━━━━━━━\u001b[0m\u001b[37m\u001b[0m \u001b[1m0s\u001b[0m 11ms/step\n",
      "\u001b[1m1/1\u001b[0m \u001b[32m━━━━━━━━━━━━━━━━━━━━\u001b[0m\u001b[37m\u001b[0m \u001b[1m0s\u001b[0m 11ms/step\n",
      "\u001b[1m1/1\u001b[0m \u001b[32m━━━━━━━━━━━━━━━━━━━━\u001b[0m\u001b[37m\u001b[0m \u001b[1m0s\u001b[0m 9ms/step\n"
     ]
    },
    {
     "name": "stderr",
     "output_type": "stream",
     "text": [
      " 90%|████████▉ | 310/345 [00:09<00:01, 33.73it/s]"
     ]
    },
    {
     "name": "stdout",
     "output_type": "stream",
     "text": [
      "\u001b[1m1/1\u001b[0m \u001b[32m━━━━━━━━━━━━━━━━━━━━\u001b[0m\u001b[37m\u001b[0m \u001b[1m0s\u001b[0m 10ms/step\n",
      "\u001b[1m1/1\u001b[0m \u001b[32m━━━━━━━━━━━━━━━━━━━━\u001b[0m\u001b[37m\u001b[0m \u001b[1m0s\u001b[0m 9ms/step\n",
      "\u001b[1m1/1\u001b[0m \u001b[32m━━━━━━━━━━━━━━━━━━━━\u001b[0m\u001b[37m\u001b[0m \u001b[1m0s\u001b[0m 11ms/step\n",
      "\u001b[1m1/1\u001b[0m \u001b[32m━━━━━━━━━━━━━━━━━━━━\u001b[0m\u001b[37m\u001b[0m \u001b[1m0s\u001b[0m 10ms/step\n"
     ]
    },
    {
     "name": "stderr",
     "output_type": "stream",
     "text": [
      " 91%|█████████ | 314/345 [00:09<00:00, 33.74it/s]"
     ]
    },
    {
     "name": "stdout",
     "output_type": "stream",
     "text": [
      "\u001b[1m1/1\u001b[0m \u001b[32m━━━━━━━━━━━━━━━━━━━━\u001b[0m\u001b[37m\u001b[0m \u001b[1m0s\u001b[0m 10ms/step\n",
      "\u001b[1m1/1\u001b[0m \u001b[32m━━━━━━━━━━━━━━━━━━━━\u001b[0m\u001b[37m\u001b[0m \u001b[1m0s\u001b[0m 12ms/step\n",
      "\u001b[1m1/1\u001b[0m \u001b[32m━━━━━━━━━━━━━━━━━━━━\u001b[0m\u001b[37m\u001b[0m \u001b[1m0s\u001b[0m 12ms/step\n",
      "\u001b[1m1/1\u001b[0m \u001b[32m━━━━━━━━━━━━━━━━━━━━\u001b[0m\u001b[37m\u001b[0m \u001b[1m0s\u001b[0m 11ms/step\n"
     ]
    },
    {
     "name": "stderr",
     "output_type": "stream",
     "text": [
      " 92%|█████████▏| 318/345 [00:09<00:00, 33.40it/s]"
     ]
    },
    {
     "name": "stdout",
     "output_type": "stream",
     "text": [
      "\u001b[1m1/1\u001b[0m \u001b[32m━━━━━━━━━━━━━━━━━━━━\u001b[0m\u001b[37m\u001b[0m \u001b[1m0s\u001b[0m 14ms/step\n",
      "\u001b[1m1/1\u001b[0m \u001b[32m━━━━━━━━━━━━━━━━━━━━\u001b[0m\u001b[37m\u001b[0m \u001b[1m0s\u001b[0m 11ms/step\n",
      "\u001b[1m1/1\u001b[0m \u001b[32m━━━━━━━━━━━━━━━━━━━━\u001b[0m\u001b[37m\u001b[0m \u001b[1m0s\u001b[0m 10ms/step\n",
      "\u001b[1m1/1\u001b[0m \u001b[32m━━━━━━━━━━━━━━━━━━━━\u001b[0m\u001b[37m\u001b[0m \u001b[1m0s\u001b[0m 10ms/step\n"
     ]
    },
    {
     "name": "stderr",
     "output_type": "stream",
     "text": [
      " 93%|█████████▎| 322/345 [00:09<00:00, 30.50it/s]"
     ]
    },
    {
     "name": "stdout",
     "output_type": "stream",
     "text": [
      "\u001b[1m1/1\u001b[0m \u001b[32m━━━━━━━━━━━━━━━━━━━━\u001b[0m\u001b[37m\u001b[0m \u001b[1m0s\u001b[0m 11ms/step\n",
      "\u001b[1m1/1\u001b[0m \u001b[32m━━━━━━━━━━━━━━━━━━━━\u001b[0m\u001b[37m\u001b[0m \u001b[1m0s\u001b[0m 12ms/step\n",
      "\u001b[1m1/1\u001b[0m \u001b[32m━━━━━━━━━━━━━━━━━━━━\u001b[0m\u001b[37m\u001b[0m \u001b[1m0s\u001b[0m 10ms/step\n",
      "\u001b[1m1/1\u001b[0m \u001b[32m━━━━━━━━━━━━━━━━━━━━\u001b[0m\u001b[37m\u001b[0m \u001b[1m0s\u001b[0m 10ms/step\n"
     ]
    },
    {
     "name": "stderr",
     "output_type": "stream",
     "text": [
      " 94%|█████████▍| 326/345 [00:09<00:00, 31.52it/s]"
     ]
    },
    {
     "name": "stdout",
     "output_type": "stream",
     "text": [
      "\u001b[1m1/1\u001b[0m \u001b[32m━━━━━━━━━━━━━━━━━━━━\u001b[0m\u001b[37m\u001b[0m \u001b[1m0s\u001b[0m 10ms/step\n",
      "\u001b[1m1/1\u001b[0m \u001b[32m━━━━━━━━━━━━━━━━━━━━\u001b[0m\u001b[37m\u001b[0m \u001b[1m0s\u001b[0m 12ms/step\n",
      "\u001b[1m1/1\u001b[0m \u001b[32m━━━━━━━━━━━━━━━━━━━━\u001b[0m\u001b[37m\u001b[0m \u001b[1m0s\u001b[0m 11ms/step\n",
      "\u001b[1m1/1\u001b[0m \u001b[32m━━━━━━━━━━━━━━━━━━━━\u001b[0m\u001b[37m\u001b[0m \u001b[1m0s\u001b[0m 24ms/step\n"
     ]
    },
    {
     "name": "stderr",
     "output_type": "stream",
     "text": [
      " 96%|█████████▌| 330/345 [00:09<00:00, 30.12it/s]"
     ]
    },
    {
     "name": "stdout",
     "output_type": "stream",
     "text": [
      "\u001b[1m1/1\u001b[0m \u001b[32m━━━━━━━━━━━━━━━━━━━━\u001b[0m\u001b[37m\u001b[0m \u001b[1m0s\u001b[0m 11ms/step\n",
      "\u001b[1m1/1\u001b[0m \u001b[32m━━━━━━━━━━━━━━━━━━━━\u001b[0m\u001b[37m\u001b[0m \u001b[1m0s\u001b[0m 11ms/step\n",
      "\u001b[1m1/1\u001b[0m \u001b[32m━━━━━━━━━━━━━━━━━━━━\u001b[0m\u001b[37m\u001b[0m \u001b[1m0s\u001b[0m 9ms/step\n",
      "\u001b[1m1/1\u001b[0m \u001b[32m━━━━━━━━━━━━━━━━━━━━\u001b[0m\u001b[37m\u001b[0m \u001b[1m0s\u001b[0m 10ms/step\n"
     ]
    },
    {
     "name": "stderr",
     "output_type": "stream",
     "text": [
      " 97%|█████████▋| 334/345 [00:09<00:00, 31.12it/s]"
     ]
    },
    {
     "name": "stdout",
     "output_type": "stream",
     "text": [
      "\u001b[1m1/1\u001b[0m \u001b[32m━━━━━━━━━━━━━━━━━━━━\u001b[0m\u001b[37m\u001b[0m \u001b[1m0s\u001b[0m 11ms/step\n",
      "\u001b[1m1/1\u001b[0m \u001b[32m━━━━━━━━━━━━━━━━━━━━\u001b[0m\u001b[37m\u001b[0m \u001b[1m0s\u001b[0m 11ms/step\n",
      "\u001b[1m1/1\u001b[0m \u001b[32m━━━━━━━━━━━━━━━━━━━━\u001b[0m\u001b[37m\u001b[0m \u001b[1m0s\u001b[0m 9ms/step\n",
      "\u001b[1m1/1\u001b[0m \u001b[32m━━━━━━━━━━━━━━━━━━━━\u001b[0m\u001b[37m\u001b[0m \u001b[1m0s\u001b[0m 10ms/step\n"
     ]
    },
    {
     "name": "stderr",
     "output_type": "stream",
     "text": [
      " 98%|█████████▊| 338/345 [00:09<00:00, 32.07it/s]"
     ]
    },
    {
     "name": "stdout",
     "output_type": "stream",
     "text": [
      "\u001b[1m1/1\u001b[0m \u001b[32m━━━━━━━━━━━━━━━━━━━━\u001b[0m\u001b[37m\u001b[0m \u001b[1m0s\u001b[0m 11ms/step\n",
      "\u001b[1m1/1\u001b[0m \u001b[32m━━━━━━━━━━━━━━━━━━━━\u001b[0m\u001b[37m\u001b[0m \u001b[1m0s\u001b[0m 11ms/step\n",
      "\u001b[1m1/1\u001b[0m \u001b[32m━━━━━━━━━━━━━━━━━━━━\u001b[0m\u001b[37m\u001b[0m \u001b[1m0s\u001b[0m 10ms/step\n",
      "\u001b[1m1/1\u001b[0m \u001b[32m━━━━━━━━━━━━━━━━━━━━\u001b[0m\u001b[37m\u001b[0m \u001b[1m0s\u001b[0m 10ms/step\n"
     ]
    },
    {
     "name": "stderr",
     "output_type": "stream",
     "text": [
      " 99%|█████████▉| 342/345 [00:10<00:00, 32.55it/s]"
     ]
    },
    {
     "name": "stdout",
     "output_type": "stream",
     "text": [
      "\u001b[1m1/1\u001b[0m \u001b[32m━━━━━━━━━━━━━━━━━━━━\u001b[0m\u001b[37m\u001b[0m \u001b[1m0s\u001b[0m 11ms/step\n",
      "\u001b[1m1/1\u001b[0m \u001b[32m━━━━━━━━━━━━━━━━━━━━\u001b[0m\u001b[37m\u001b[0m \u001b[1m0s\u001b[0m 12ms/step\n",
      "\u001b[1m1/1\u001b[0m \u001b[32m━━━━━━━━━━━━━━━━━━━━\u001b[0m\u001b[37m\u001b[0m \u001b[1m0s\u001b[0m 11ms/step\n"
     ]
    },
    {
     "name": "stderr",
     "output_type": "stream",
     "text": [
      "100%|██████████| 345/345 [00:10<00:00, 33.83it/s]\n"
     ]
    }
   ],
   "source": [
    "y_pred = []\n",
    "for i in tqdm(range(df.shape[0])):\n",
    "    pred = model.predict(input.reshape(1,total_shift))[0][0]\n",
    "    y_pred.append(pred)\n",
    "    input = np.roll(input,-1)\n",
    "    input[0,-1] = pred"
   ]
  },
  {
   "cell_type": "code",
   "execution_count": 11,
   "metadata": {},
   "outputs": [],
   "source": [
    "y_pred = scaler.inverse_transform(np.array(y_pred).reshape(345,1))\n",
    "df['Open_pred'] = y_pred"
   ]
  },
  {
   "cell_type": "code",
   "execution_count": 15,
   "metadata": {},
   "outputs": [],
   "source": [
    "y_true = df['Open'].values\n",
    "y_pred = df['Open_pred'].values"
   ]
  },
  {
   "cell_type": "code",
   "execution_count": 16,
   "metadata": {},
   "outputs": [
    {
     "name": "stdout",
     "output_type": "stream",
     "text": [
      "MAE :  111.60580842391305\n",
      "MSE :  14512.17184384111\n"
     ]
    }
   ],
   "source": [
    "print('MAE : ',mean_absolute_error(y_true,y_pred))\n",
    "print('MSE : ', mean_squared_error(y_true, y_pred))"
   ]
  },
  {
   "cell_type": "code",
   "execution_count": 17,
   "metadata": {},
   "outputs": [
    {
     "data": {
      "application/vnd.plotly.v1+json": {
       "config": {
        "plotlyServerURL": "https://plot.ly"
       },
       "data": [
        {
         "hovertemplate": "variable=Open<br>Datetime=%{x}<br>value=%{y}<extra></extra>",
         "legendgroup": "Open",
         "line": {
          "color": "#636efa",
          "dash": "solid"
         },
         "marker": {
          "symbol": "circle"
         },
         "mode": "lines",
         "name": "Open",
         "orientation": "v",
         "showlegend": true,
         "type": "scatter",
         "x": [
          "2024-08-12 09:45:00+05:30",
          "2024-08-12 09:46:00+05:30",
          "2024-08-12 09:47:00+05:30",
          "2024-08-12 09:48:00+05:30",
          "2024-08-12 09:49:00+05:30",
          "2024-08-12 09:50:00+05:30",
          "2024-08-12 09:51:00+05:30",
          "2024-08-12 09:52:00+05:30",
          "2024-08-12 09:53:00+05:30",
          "2024-08-12 09:54:00+05:30",
          "2024-08-12 09:55:00+05:30",
          "2024-08-12 09:56:00+05:30",
          "2024-08-12 09:57:00+05:30",
          "2024-08-12 09:58:00+05:30",
          "2024-08-12 09:59:00+05:30",
          "2024-08-12 10:00:00+05:30",
          "2024-08-12 10:01:00+05:30",
          "2024-08-12 10:02:00+05:30",
          "2024-08-12 10:03:00+05:30",
          "2024-08-12 10:04:00+05:30",
          "2024-08-12 10:05:00+05:30",
          "2024-08-12 10:06:00+05:30",
          "2024-08-12 10:07:00+05:30",
          "2024-08-12 10:08:00+05:30",
          "2024-08-12 10:09:00+05:30",
          "2024-08-12 10:10:00+05:30",
          "2024-08-12 10:11:00+05:30",
          "2024-08-12 10:12:00+05:30",
          "2024-08-12 10:13:00+05:30",
          "2024-08-12 10:14:00+05:30",
          "2024-08-12 10:15:00+05:30",
          "2024-08-12 10:16:00+05:30",
          "2024-08-12 10:17:00+05:30",
          "2024-08-12 10:18:00+05:30",
          "2024-08-12 10:19:00+05:30",
          "2024-08-12 10:20:00+05:30",
          "2024-08-12 10:21:00+05:30",
          "2024-08-12 10:22:00+05:30",
          "2024-08-12 10:23:00+05:30",
          "2024-08-12 10:24:00+05:30",
          "2024-08-12 10:25:00+05:30",
          "2024-08-12 10:26:00+05:30",
          "2024-08-12 10:27:00+05:30",
          "2024-08-12 10:28:00+05:30",
          "2024-08-12 10:29:00+05:30",
          "2024-08-12 10:30:00+05:30",
          "2024-08-12 10:31:00+05:30",
          "2024-08-12 10:32:00+05:30",
          "2024-08-12 10:33:00+05:30",
          "2024-08-12 10:34:00+05:30",
          "2024-08-12 10:35:00+05:30",
          "2024-08-12 10:36:00+05:30",
          "2024-08-12 10:37:00+05:30",
          "2024-08-12 10:38:00+05:30",
          "2024-08-12 10:39:00+05:30",
          "2024-08-12 10:40:00+05:30",
          "2024-08-12 10:41:00+05:30",
          "2024-08-12 10:42:00+05:30",
          "2024-08-12 10:43:00+05:30",
          "2024-08-12 10:44:00+05:30",
          "2024-08-12 10:45:00+05:30",
          "2024-08-12 10:46:00+05:30",
          "2024-08-12 10:47:00+05:30",
          "2024-08-12 10:48:00+05:30",
          "2024-08-12 10:49:00+05:30",
          "2024-08-12 10:50:00+05:30",
          "2024-08-12 10:51:00+05:30",
          "2024-08-12 10:52:00+05:30",
          "2024-08-12 10:53:00+05:30",
          "2024-08-12 10:54:00+05:30",
          "2024-08-12 10:55:00+05:30",
          "2024-08-12 10:56:00+05:30",
          "2024-08-12 10:57:00+05:30",
          "2024-08-12 10:58:00+05:30",
          "2024-08-12 10:59:00+05:30",
          "2024-08-12 11:00:00+05:30",
          "2024-08-12 11:01:00+05:30",
          "2024-08-12 11:02:00+05:30",
          "2024-08-12 11:03:00+05:30",
          "2024-08-12 11:04:00+05:30",
          "2024-08-12 11:05:00+05:30",
          "2024-08-12 11:06:00+05:30",
          "2024-08-12 11:07:00+05:30",
          "2024-08-12 11:08:00+05:30",
          "2024-08-12 11:09:00+05:30",
          "2024-08-12 11:10:00+05:30",
          "2024-08-12 11:11:00+05:30",
          "2024-08-12 11:12:00+05:30",
          "2024-08-12 11:13:00+05:30",
          "2024-08-12 11:14:00+05:30",
          "2024-08-12 11:15:00+05:30",
          "2024-08-12 11:16:00+05:30",
          "2024-08-12 11:17:00+05:30",
          "2024-08-12 11:18:00+05:30",
          "2024-08-12 11:19:00+05:30",
          "2024-08-12 11:20:00+05:30",
          "2024-08-12 11:21:00+05:30",
          "2024-08-12 11:22:00+05:30",
          "2024-08-12 11:23:00+05:30",
          "2024-08-12 11:24:00+05:30",
          "2024-08-12 11:25:00+05:30",
          "2024-08-12 11:26:00+05:30",
          "2024-08-12 11:27:00+05:30",
          "2024-08-12 11:28:00+05:30",
          "2024-08-12 11:29:00+05:30",
          "2024-08-12 11:30:00+05:30",
          "2024-08-12 11:31:00+05:30",
          "2024-08-12 11:32:00+05:30",
          "2024-08-12 11:33:00+05:30",
          "2024-08-12 11:34:00+05:30",
          "2024-08-12 11:35:00+05:30",
          "2024-08-12 11:36:00+05:30",
          "2024-08-12 11:37:00+05:30",
          "2024-08-12 11:38:00+05:30",
          "2024-08-12 11:39:00+05:30",
          "2024-08-12 11:40:00+05:30",
          "2024-08-12 11:41:00+05:30",
          "2024-08-12 11:42:00+05:30",
          "2024-08-12 11:43:00+05:30",
          "2024-08-12 11:44:00+05:30",
          "2024-08-12 11:45:00+05:30",
          "2024-08-12 11:46:00+05:30",
          "2024-08-12 11:47:00+05:30",
          "2024-08-12 11:48:00+05:30",
          "2024-08-12 11:49:00+05:30",
          "2024-08-12 11:50:00+05:30",
          "2024-08-12 11:51:00+05:30",
          "2024-08-12 11:52:00+05:30",
          "2024-08-12 11:53:00+05:30",
          "2024-08-12 11:54:00+05:30",
          "2024-08-12 11:55:00+05:30",
          "2024-08-12 11:56:00+05:30",
          "2024-08-12 11:57:00+05:30",
          "2024-08-12 11:58:00+05:30",
          "2024-08-12 11:59:00+05:30",
          "2024-08-12 12:00:00+05:30",
          "2024-08-12 12:01:00+05:30",
          "2024-08-12 12:02:00+05:30",
          "2024-08-12 12:03:00+05:30",
          "2024-08-12 12:04:00+05:30",
          "2024-08-12 12:05:00+05:30",
          "2024-08-12 12:06:00+05:30",
          "2024-08-12 12:07:00+05:30",
          "2024-08-12 12:08:00+05:30",
          "2024-08-12 12:09:00+05:30",
          "2024-08-12 12:10:00+05:30",
          "2024-08-12 12:11:00+05:30",
          "2024-08-12 12:12:00+05:30",
          "2024-08-12 12:13:00+05:30",
          "2024-08-12 12:14:00+05:30",
          "2024-08-12 12:15:00+05:30",
          "2024-08-12 12:16:00+05:30",
          "2024-08-12 12:17:00+05:30",
          "2024-08-12 12:18:00+05:30",
          "2024-08-12 12:19:00+05:30",
          "2024-08-12 12:20:00+05:30",
          "2024-08-12 12:21:00+05:30",
          "2024-08-12 12:22:00+05:30",
          "2024-08-12 12:23:00+05:30",
          "2024-08-12 12:24:00+05:30",
          "2024-08-12 12:25:00+05:30",
          "2024-08-12 12:26:00+05:30",
          "2024-08-12 12:27:00+05:30",
          "2024-08-12 12:28:00+05:30",
          "2024-08-12 12:29:00+05:30",
          "2024-08-12 12:30:00+05:30",
          "2024-08-12 12:31:00+05:30",
          "2024-08-12 12:32:00+05:30",
          "2024-08-12 12:33:00+05:30",
          "2024-08-12 12:34:00+05:30",
          "2024-08-12 12:35:00+05:30",
          "2024-08-12 12:36:00+05:30",
          "2024-08-12 12:37:00+05:30",
          "2024-08-12 12:38:00+05:30",
          "2024-08-12 12:39:00+05:30",
          "2024-08-12 12:40:00+05:30",
          "2024-08-12 12:41:00+05:30",
          "2024-08-12 12:42:00+05:30",
          "2024-08-12 12:43:00+05:30",
          "2024-08-12 12:44:00+05:30",
          "2024-08-12 12:45:00+05:30",
          "2024-08-12 12:46:00+05:30",
          "2024-08-12 12:47:00+05:30",
          "2024-08-12 12:48:00+05:30",
          "2024-08-12 12:49:00+05:30",
          "2024-08-12 12:50:00+05:30",
          "2024-08-12 12:51:00+05:30",
          "2024-08-12 12:52:00+05:30",
          "2024-08-12 12:53:00+05:30",
          "2024-08-12 12:54:00+05:30",
          "2024-08-12 12:55:00+05:30",
          "2024-08-12 12:56:00+05:30",
          "2024-08-12 12:57:00+05:30",
          "2024-08-12 12:58:00+05:30",
          "2024-08-12 12:59:00+05:30",
          "2024-08-12 13:00:00+05:30",
          "2024-08-12 13:01:00+05:30",
          "2024-08-12 13:02:00+05:30",
          "2024-08-12 13:03:00+05:30",
          "2024-08-12 13:04:00+05:30",
          "2024-08-12 13:05:00+05:30",
          "2024-08-12 13:06:00+05:30",
          "2024-08-12 13:07:00+05:30",
          "2024-08-12 13:08:00+05:30",
          "2024-08-12 13:09:00+05:30",
          "2024-08-12 13:10:00+05:30",
          "2024-08-12 13:11:00+05:30",
          "2024-08-12 13:12:00+05:30",
          "2024-08-12 13:13:00+05:30",
          "2024-08-12 13:14:00+05:30",
          "2024-08-12 13:15:00+05:30",
          "2024-08-12 13:16:00+05:30",
          "2024-08-12 13:17:00+05:30",
          "2024-08-12 13:18:00+05:30",
          "2024-08-12 13:19:00+05:30",
          "2024-08-12 13:20:00+05:30",
          "2024-08-12 13:21:00+05:30",
          "2024-08-12 13:22:00+05:30",
          "2024-08-12 13:23:00+05:30",
          "2024-08-12 13:24:00+05:30",
          "2024-08-12 13:25:00+05:30",
          "2024-08-12 13:26:00+05:30",
          "2024-08-12 13:27:00+05:30",
          "2024-08-12 13:28:00+05:30",
          "2024-08-12 13:29:00+05:30",
          "2024-08-12 13:30:00+05:30",
          "2024-08-12 13:31:00+05:30",
          "2024-08-12 13:32:00+05:30",
          "2024-08-12 13:33:00+05:30",
          "2024-08-12 13:34:00+05:30",
          "2024-08-12 13:35:00+05:30",
          "2024-08-12 13:36:00+05:30",
          "2024-08-12 13:37:00+05:30",
          "2024-08-12 13:38:00+05:30",
          "2024-08-12 13:39:00+05:30",
          "2024-08-12 13:40:00+05:30",
          "2024-08-12 13:41:00+05:30",
          "2024-08-12 13:42:00+05:30",
          "2024-08-12 13:43:00+05:30",
          "2024-08-12 13:44:00+05:30",
          "2024-08-12 13:45:00+05:30",
          "2024-08-12 13:46:00+05:30",
          "2024-08-12 13:47:00+05:30",
          "2024-08-12 13:48:00+05:30",
          "2024-08-12 13:49:00+05:30",
          "2024-08-12 13:50:00+05:30",
          "2024-08-12 13:51:00+05:30",
          "2024-08-12 13:52:00+05:30",
          "2024-08-12 13:53:00+05:30",
          "2024-08-12 13:54:00+05:30",
          "2024-08-12 13:55:00+05:30",
          "2024-08-12 13:56:00+05:30",
          "2024-08-12 13:57:00+05:30",
          "2024-08-12 13:58:00+05:30",
          "2024-08-12 13:59:00+05:30",
          "2024-08-12 14:00:00+05:30",
          "2024-08-12 14:01:00+05:30",
          "2024-08-12 14:02:00+05:30",
          "2024-08-12 14:03:00+05:30",
          "2024-08-12 14:04:00+05:30",
          "2024-08-12 14:05:00+05:30",
          "2024-08-12 14:06:00+05:30",
          "2024-08-12 14:07:00+05:30",
          "2024-08-12 14:08:00+05:30",
          "2024-08-12 14:09:00+05:30",
          "2024-08-12 14:10:00+05:30",
          "2024-08-12 14:11:00+05:30",
          "2024-08-12 14:12:00+05:30",
          "2024-08-12 14:13:00+05:30",
          "2024-08-12 14:14:00+05:30",
          "2024-08-12 14:15:00+05:30",
          "2024-08-12 14:16:00+05:30",
          "2024-08-12 14:17:00+05:30",
          "2024-08-12 14:18:00+05:30",
          "2024-08-12 14:19:00+05:30",
          "2024-08-12 14:20:00+05:30",
          "2024-08-12 14:21:00+05:30",
          "2024-08-12 14:22:00+05:30",
          "2024-08-12 14:23:00+05:30",
          "2024-08-12 14:24:00+05:30",
          "2024-08-12 14:25:00+05:30",
          "2024-08-12 14:26:00+05:30",
          "2024-08-12 14:27:00+05:30",
          "2024-08-12 14:28:00+05:30",
          "2024-08-12 14:29:00+05:30",
          "2024-08-12 14:30:00+05:30",
          "2024-08-12 14:31:00+05:30",
          "2024-08-12 14:32:00+05:30",
          "2024-08-12 14:33:00+05:30",
          "2024-08-12 14:34:00+05:30",
          "2024-08-12 14:35:00+05:30",
          "2024-08-12 14:36:00+05:30",
          "2024-08-12 14:37:00+05:30",
          "2024-08-12 14:38:00+05:30",
          "2024-08-12 14:39:00+05:30",
          "2024-08-12 14:40:00+05:30",
          "2024-08-12 14:41:00+05:30",
          "2024-08-12 14:42:00+05:30",
          "2024-08-12 14:43:00+05:30",
          "2024-08-12 14:44:00+05:30",
          "2024-08-12 14:45:00+05:30",
          "2024-08-12 14:46:00+05:30",
          "2024-08-12 14:47:00+05:30",
          "2024-08-12 14:48:00+05:30",
          "2024-08-12 14:49:00+05:30",
          "2024-08-12 14:50:00+05:30",
          "2024-08-12 14:51:00+05:30",
          "2024-08-12 14:52:00+05:30",
          "2024-08-12 14:53:00+05:30",
          "2024-08-12 14:54:00+05:30",
          "2024-08-12 14:55:00+05:30",
          "2024-08-12 14:56:00+05:30",
          "2024-08-12 14:57:00+05:30",
          "2024-08-12 14:58:00+05:30",
          "2024-08-12 14:59:00+05:30",
          "2024-08-12 15:00:00+05:30",
          "2024-08-12 15:01:00+05:30",
          "2024-08-12 15:02:00+05:30",
          "2024-08-12 15:03:00+05:30",
          "2024-08-12 15:04:00+05:30",
          "2024-08-12 15:05:00+05:30",
          "2024-08-12 15:06:00+05:30",
          "2024-08-12 15:07:00+05:30",
          "2024-08-12 15:08:00+05:30",
          "2024-08-12 15:09:00+05:30",
          "2024-08-12 15:10:00+05:30",
          "2024-08-12 15:11:00+05:30",
          "2024-08-12 15:12:00+05:30",
          "2024-08-12 15:13:00+05:30",
          "2024-08-12 15:14:00+05:30",
          "2024-08-12 15:15:00+05:30",
          "2024-08-12 15:16:00+05:30",
          "2024-08-12 15:17:00+05:30",
          "2024-08-12 15:18:00+05:30",
          "2024-08-12 15:19:00+05:30",
          "2024-08-12 15:20:00+05:30",
          "2024-08-12 15:21:00+05:30",
          "2024-08-12 15:22:00+05:30",
          "2024-08-12 15:23:00+05:30",
          "2024-08-12 15:24:00+05:30",
          "2024-08-12 15:25:00+05:30",
          "2024-08-12 15:26:00+05:30",
          "2024-08-12 15:27:00+05:30",
          "2024-08-12 15:28:00+05:30",
          "2024-08-12 15:29:00+05:30"
         ],
         "xaxis": "x",
         "y": [
          24274.94921875,
          24253.5,
          24249.900390625,
          24259.25,
          24253.30078125,
          24253.80078125,
          24231.05078125,
          24240.25,
          24240.849609375,
          24229.80078125,
          24228.650390625,
          24229.099609375,
          24225.150390625,
          24217,
          24214.69921875,
          24223.05078125,
          24223,
          24225.94921875,
          24227.25,
          24240.099609375,
          24242.099609375,
          24238.25,
          24231.099609375,
          24234.5,
          24251.599609375,
          24256.80078125,
          24256.150390625,
          24246.80078125,
          24250.5,
          24255.150390625,
          24252.80078125,
          24262.75,
          24266.30078125,
          24292.69921875,
          24290.05078125,
          24296.55078125,
          24293.30078125,
          24288.80078125,
          24298.75,
          24295,
          24295.099609375,
          24289.650390625,
          24291.55078125,
          24289.25,
          24294.099609375,
          24291.05078125,
          24293.44921875,
          24306.400390625,
          24300.099609375,
          24300.5,
          24298.650390625,
          24310.650390625,
          24309.650390625,
          24309.5,
          24315.69921875,
          24320.75,
          24327.599609375,
          24329.55078125,
          24334.849609375,
          24349.900390625,
          24351.55078125,
          24358.849609375,
          24341.599609375,
          24348.099609375,
          24352.400390625,
          24350.80078125,
          24343.94921875,
          24347.400390625,
          24348.099609375,
          24362.349609375,
          24361.30078125,
          24376.650390625,
          24390.349609375,
          24392.349609375,
          24403.44921875,
          24400.75,
          24406.150390625,
          24390.75,
          24383.5,
          24387.349609375,
          24381.25,
          24389.69921875,
          24392.849609375,
          24392.849609375,
          24401.25,
          24401.650390625,
          24410,
          24406.55078125,
          24427.900390625,
          24423.5,
          24434.650390625,
          24430.150390625,
          24452.400390625,
          24457.25,
          24464.400390625,
          24461.650390625,
          24464.5,
          24457.650390625,
          24460.30078125,
          24463.849609375,
          24460.25,
          24458.19921875,
          24429,
          24434.349609375,
          24448.099609375,
          24452,
          24465.05078125,
          24456.05078125,
          24453.25,
          24457.55078125,
          24456.150390625,
          24439.599609375,
          24435.80078125,
          24433.849609375,
          24426.400390625,
          24429.55078125,
          24422.69921875,
          24418.75,
          24419.150390625,
          24421.25,
          24416.099609375,
          24422,
          24431.349609375,
          24432.099609375,
          24428.849609375,
          24419.55078125,
          24415.80078125,
          24407.44921875,
          24414.349609375,
          24405.5,
          24408.349609375,
          24414.599609375,
          24420.19921875,
          24428.55078125,
          24424,
          24418.69921875,
          24420.30078125,
          24420.05078125,
          24411.80078125,
          24414.94921875,
          24421.650390625,
          24421.19921875,
          24420.55078125,
          24418.75,
          24414.94921875,
          24413.05078125,
          24409.44921875,
          24411.69921875,
          24406.150390625,
          24404.650390625,
          24388.75,
          24400.849609375,
          24398.75,
          24403.75,
          24403.55078125,
          24406,
          24408.099609375,
          24406.75,
          24404.400390625,
          24398.75,
          24404.349609375,
          24398.69921875,
          24383.099609375,
          24389.150390625,
          24401.44921875,
          24392.05078125,
          24384.19921875,
          24396.349609375,
          24393.849609375,
          24402,
          24405.55078125,
          24415.5,
          24410.44921875,
          24419.55078125,
          24423.69921875,
          24419.650390625,
          24420.19921875,
          24425.5,
          24426.05078125,
          24422.900390625,
          24427.099609375,
          24424.599609375,
          24422.30078125,
          24428.69921875,
          24434.650390625,
          24433.44921875,
          24421,
          24416.849609375,
          24419.150390625,
          24414.900390625,
          24416.75,
          24416.69921875,
          24411.05078125,
          24414.349609375,
          24406.099609375,
          24406.150390625,
          24427.150390625,
          24427.650390625,
          24433.849609375,
          24433.650390625,
          24426.650390625,
          24416.05078125,
          24409.849609375,
          24408.44921875,
          24408.75,
          24410.80078125,
          24412.5,
          24411.05078125,
          24410.25,
          24408.44921875,
          24404.400390625,
          24403.30078125,
          24400.599609375,
          24407.80078125,
          24406.849609375,
          24402.599609375,
          24398.30078125,
          24396.650390625,
          24398.30078125,
          24407.69921875,
          24412.849609375,
          24411,
          24403.150390625,
          24405.900390625,
          24410.400390625,
          24415.55078125,
          24419.69921875,
          24419.099609375,
          24415.05078125,
          24417.30078125,
          24416.150390625,
          24412.55078125,
          24414.75,
          24415.5,
          24413.599609375,
          24419.25,
          24418.44921875,
          24417.900390625,
          24415.400390625,
          24418.19921875,
          24420.099609375,
          24417.80078125,
          24423.099609375,
          24420.349609375,
          24417.80078125,
          24422.400390625,
          24419.55078125,
          24430.94921875,
          24429.599609375,
          24422.75,
          24424.19921875,
          24421.400390625,
          24421.30078125,
          24419.25,
          24419.30078125,
          24423.349609375,
          24424.30078125,
          24422.400390625,
          24428.599609375,
          24430.05078125,
          24425.599609375,
          24422.650390625,
          24426.80078125,
          24432.900390625,
          24433.75,
          24436.75,
          24440.19921875,
          24439.599609375,
          24439.05078125,
          24431.69921875,
          24434.69921875,
          24438.900390625,
          24434,
          24429.30078125,
          24425.849609375,
          24419.349609375,
          24409.849609375,
          24409.849609375,
          24408.69921875,
          24398.099609375,
          24403.599609375,
          24399.55078125,
          24403.05078125,
          24406.150390625,
          24400,
          24406.400390625,
          24407.599609375,
          24399.80078125,
          24393.80078125,
          24399.849609375,
          24404.599609375,
          24400.55078125,
          24401.400390625,
          24402.349609375,
          24408.44921875,
          24409.099609375,
          24402.099609375,
          24400.25,
          24403.55078125,
          24410.099609375,
          24414.650390625,
          24416.30078125,
          24424.80078125,
          24427.650390625,
          24422.80078125,
          24411.849609375,
          24416.5,
          24402.150390625,
          24369.400390625,
          24369.849609375,
          24359.25,
          24366.30078125,
          24369.849609375,
          24361.650390625,
          24355.05078125,
          24350.80078125,
          24325.349609375,
          24318.849609375,
          24324.099609375,
          24319.349609375,
          24341.75,
          24337.55078125,
          24350.94921875,
          24347.849609375,
          24348.849609375,
          24343.55078125,
          24342.349609375,
          24343.599609375,
          24347.19921875,
          24353.5,
          24347.94921875,
          24361.25,
          24358.349609375,
          24362.69921875,
          24354.05078125,
          24362.099609375,
          24359.19921875,
          24363.19921875,
          24364.5,
          24363.80078125,
          24358.599609375,
          24356.900390625,
          24352.150390625,
          24348.150390625,
          24343.849609375
         ],
         "yaxis": "y"
        },
        {
         "hovertemplate": "variable=Open_pred<br>Datetime=%{x}<br>value=%{y}<extra></extra>",
         "legendgroup": "Open_pred",
         "line": {
          "color": "#EF553B",
          "dash": "solid"
         },
         "marker": {
          "symbol": "circle"
         },
         "mode": "lines",
         "name": "Open_pred",
         "orientation": "v",
         "showlegend": true,
         "type": "scatter",
         "x": [
          "2024-08-12 09:45:00+05:30",
          "2024-08-12 09:46:00+05:30",
          "2024-08-12 09:47:00+05:30",
          "2024-08-12 09:48:00+05:30",
          "2024-08-12 09:49:00+05:30",
          "2024-08-12 09:50:00+05:30",
          "2024-08-12 09:51:00+05:30",
          "2024-08-12 09:52:00+05:30",
          "2024-08-12 09:53:00+05:30",
          "2024-08-12 09:54:00+05:30",
          "2024-08-12 09:55:00+05:30",
          "2024-08-12 09:56:00+05:30",
          "2024-08-12 09:57:00+05:30",
          "2024-08-12 09:58:00+05:30",
          "2024-08-12 09:59:00+05:30",
          "2024-08-12 10:00:00+05:30",
          "2024-08-12 10:01:00+05:30",
          "2024-08-12 10:02:00+05:30",
          "2024-08-12 10:03:00+05:30",
          "2024-08-12 10:04:00+05:30",
          "2024-08-12 10:05:00+05:30",
          "2024-08-12 10:06:00+05:30",
          "2024-08-12 10:07:00+05:30",
          "2024-08-12 10:08:00+05:30",
          "2024-08-12 10:09:00+05:30",
          "2024-08-12 10:10:00+05:30",
          "2024-08-12 10:11:00+05:30",
          "2024-08-12 10:12:00+05:30",
          "2024-08-12 10:13:00+05:30",
          "2024-08-12 10:14:00+05:30",
          "2024-08-12 10:15:00+05:30",
          "2024-08-12 10:16:00+05:30",
          "2024-08-12 10:17:00+05:30",
          "2024-08-12 10:18:00+05:30",
          "2024-08-12 10:19:00+05:30",
          "2024-08-12 10:20:00+05:30",
          "2024-08-12 10:21:00+05:30",
          "2024-08-12 10:22:00+05:30",
          "2024-08-12 10:23:00+05:30",
          "2024-08-12 10:24:00+05:30",
          "2024-08-12 10:25:00+05:30",
          "2024-08-12 10:26:00+05:30",
          "2024-08-12 10:27:00+05:30",
          "2024-08-12 10:28:00+05:30",
          "2024-08-12 10:29:00+05:30",
          "2024-08-12 10:30:00+05:30",
          "2024-08-12 10:31:00+05:30",
          "2024-08-12 10:32:00+05:30",
          "2024-08-12 10:33:00+05:30",
          "2024-08-12 10:34:00+05:30",
          "2024-08-12 10:35:00+05:30",
          "2024-08-12 10:36:00+05:30",
          "2024-08-12 10:37:00+05:30",
          "2024-08-12 10:38:00+05:30",
          "2024-08-12 10:39:00+05:30",
          "2024-08-12 10:40:00+05:30",
          "2024-08-12 10:41:00+05:30",
          "2024-08-12 10:42:00+05:30",
          "2024-08-12 10:43:00+05:30",
          "2024-08-12 10:44:00+05:30",
          "2024-08-12 10:45:00+05:30",
          "2024-08-12 10:46:00+05:30",
          "2024-08-12 10:47:00+05:30",
          "2024-08-12 10:48:00+05:30",
          "2024-08-12 10:49:00+05:30",
          "2024-08-12 10:50:00+05:30",
          "2024-08-12 10:51:00+05:30",
          "2024-08-12 10:52:00+05:30",
          "2024-08-12 10:53:00+05:30",
          "2024-08-12 10:54:00+05:30",
          "2024-08-12 10:55:00+05:30",
          "2024-08-12 10:56:00+05:30",
          "2024-08-12 10:57:00+05:30",
          "2024-08-12 10:58:00+05:30",
          "2024-08-12 10:59:00+05:30",
          "2024-08-12 11:00:00+05:30",
          "2024-08-12 11:01:00+05:30",
          "2024-08-12 11:02:00+05:30",
          "2024-08-12 11:03:00+05:30",
          "2024-08-12 11:04:00+05:30",
          "2024-08-12 11:05:00+05:30",
          "2024-08-12 11:06:00+05:30",
          "2024-08-12 11:07:00+05:30",
          "2024-08-12 11:08:00+05:30",
          "2024-08-12 11:09:00+05:30",
          "2024-08-12 11:10:00+05:30",
          "2024-08-12 11:11:00+05:30",
          "2024-08-12 11:12:00+05:30",
          "2024-08-12 11:13:00+05:30",
          "2024-08-12 11:14:00+05:30",
          "2024-08-12 11:15:00+05:30",
          "2024-08-12 11:16:00+05:30",
          "2024-08-12 11:17:00+05:30",
          "2024-08-12 11:18:00+05:30",
          "2024-08-12 11:19:00+05:30",
          "2024-08-12 11:20:00+05:30",
          "2024-08-12 11:21:00+05:30",
          "2024-08-12 11:22:00+05:30",
          "2024-08-12 11:23:00+05:30",
          "2024-08-12 11:24:00+05:30",
          "2024-08-12 11:25:00+05:30",
          "2024-08-12 11:26:00+05:30",
          "2024-08-12 11:27:00+05:30",
          "2024-08-12 11:28:00+05:30",
          "2024-08-12 11:29:00+05:30",
          "2024-08-12 11:30:00+05:30",
          "2024-08-12 11:31:00+05:30",
          "2024-08-12 11:32:00+05:30",
          "2024-08-12 11:33:00+05:30",
          "2024-08-12 11:34:00+05:30",
          "2024-08-12 11:35:00+05:30",
          "2024-08-12 11:36:00+05:30",
          "2024-08-12 11:37:00+05:30",
          "2024-08-12 11:38:00+05:30",
          "2024-08-12 11:39:00+05:30",
          "2024-08-12 11:40:00+05:30",
          "2024-08-12 11:41:00+05:30",
          "2024-08-12 11:42:00+05:30",
          "2024-08-12 11:43:00+05:30",
          "2024-08-12 11:44:00+05:30",
          "2024-08-12 11:45:00+05:30",
          "2024-08-12 11:46:00+05:30",
          "2024-08-12 11:47:00+05:30",
          "2024-08-12 11:48:00+05:30",
          "2024-08-12 11:49:00+05:30",
          "2024-08-12 11:50:00+05:30",
          "2024-08-12 11:51:00+05:30",
          "2024-08-12 11:52:00+05:30",
          "2024-08-12 11:53:00+05:30",
          "2024-08-12 11:54:00+05:30",
          "2024-08-12 11:55:00+05:30",
          "2024-08-12 11:56:00+05:30",
          "2024-08-12 11:57:00+05:30",
          "2024-08-12 11:58:00+05:30",
          "2024-08-12 11:59:00+05:30",
          "2024-08-12 12:00:00+05:30",
          "2024-08-12 12:01:00+05:30",
          "2024-08-12 12:02:00+05:30",
          "2024-08-12 12:03:00+05:30",
          "2024-08-12 12:04:00+05:30",
          "2024-08-12 12:05:00+05:30",
          "2024-08-12 12:06:00+05:30",
          "2024-08-12 12:07:00+05:30",
          "2024-08-12 12:08:00+05:30",
          "2024-08-12 12:09:00+05:30",
          "2024-08-12 12:10:00+05:30",
          "2024-08-12 12:11:00+05:30",
          "2024-08-12 12:12:00+05:30",
          "2024-08-12 12:13:00+05:30",
          "2024-08-12 12:14:00+05:30",
          "2024-08-12 12:15:00+05:30",
          "2024-08-12 12:16:00+05:30",
          "2024-08-12 12:17:00+05:30",
          "2024-08-12 12:18:00+05:30",
          "2024-08-12 12:19:00+05:30",
          "2024-08-12 12:20:00+05:30",
          "2024-08-12 12:21:00+05:30",
          "2024-08-12 12:22:00+05:30",
          "2024-08-12 12:23:00+05:30",
          "2024-08-12 12:24:00+05:30",
          "2024-08-12 12:25:00+05:30",
          "2024-08-12 12:26:00+05:30",
          "2024-08-12 12:27:00+05:30",
          "2024-08-12 12:28:00+05:30",
          "2024-08-12 12:29:00+05:30",
          "2024-08-12 12:30:00+05:30",
          "2024-08-12 12:31:00+05:30",
          "2024-08-12 12:32:00+05:30",
          "2024-08-12 12:33:00+05:30",
          "2024-08-12 12:34:00+05:30",
          "2024-08-12 12:35:00+05:30",
          "2024-08-12 12:36:00+05:30",
          "2024-08-12 12:37:00+05:30",
          "2024-08-12 12:38:00+05:30",
          "2024-08-12 12:39:00+05:30",
          "2024-08-12 12:40:00+05:30",
          "2024-08-12 12:41:00+05:30",
          "2024-08-12 12:42:00+05:30",
          "2024-08-12 12:43:00+05:30",
          "2024-08-12 12:44:00+05:30",
          "2024-08-12 12:45:00+05:30",
          "2024-08-12 12:46:00+05:30",
          "2024-08-12 12:47:00+05:30",
          "2024-08-12 12:48:00+05:30",
          "2024-08-12 12:49:00+05:30",
          "2024-08-12 12:50:00+05:30",
          "2024-08-12 12:51:00+05:30",
          "2024-08-12 12:52:00+05:30",
          "2024-08-12 12:53:00+05:30",
          "2024-08-12 12:54:00+05:30",
          "2024-08-12 12:55:00+05:30",
          "2024-08-12 12:56:00+05:30",
          "2024-08-12 12:57:00+05:30",
          "2024-08-12 12:58:00+05:30",
          "2024-08-12 12:59:00+05:30",
          "2024-08-12 13:00:00+05:30",
          "2024-08-12 13:01:00+05:30",
          "2024-08-12 13:02:00+05:30",
          "2024-08-12 13:03:00+05:30",
          "2024-08-12 13:04:00+05:30",
          "2024-08-12 13:05:00+05:30",
          "2024-08-12 13:06:00+05:30",
          "2024-08-12 13:07:00+05:30",
          "2024-08-12 13:08:00+05:30",
          "2024-08-12 13:09:00+05:30",
          "2024-08-12 13:10:00+05:30",
          "2024-08-12 13:11:00+05:30",
          "2024-08-12 13:12:00+05:30",
          "2024-08-12 13:13:00+05:30",
          "2024-08-12 13:14:00+05:30",
          "2024-08-12 13:15:00+05:30",
          "2024-08-12 13:16:00+05:30",
          "2024-08-12 13:17:00+05:30",
          "2024-08-12 13:18:00+05:30",
          "2024-08-12 13:19:00+05:30",
          "2024-08-12 13:20:00+05:30",
          "2024-08-12 13:21:00+05:30",
          "2024-08-12 13:22:00+05:30",
          "2024-08-12 13:23:00+05:30",
          "2024-08-12 13:24:00+05:30",
          "2024-08-12 13:25:00+05:30",
          "2024-08-12 13:26:00+05:30",
          "2024-08-12 13:27:00+05:30",
          "2024-08-12 13:28:00+05:30",
          "2024-08-12 13:29:00+05:30",
          "2024-08-12 13:30:00+05:30",
          "2024-08-12 13:31:00+05:30",
          "2024-08-12 13:32:00+05:30",
          "2024-08-12 13:33:00+05:30",
          "2024-08-12 13:34:00+05:30",
          "2024-08-12 13:35:00+05:30",
          "2024-08-12 13:36:00+05:30",
          "2024-08-12 13:37:00+05:30",
          "2024-08-12 13:38:00+05:30",
          "2024-08-12 13:39:00+05:30",
          "2024-08-12 13:40:00+05:30",
          "2024-08-12 13:41:00+05:30",
          "2024-08-12 13:42:00+05:30",
          "2024-08-12 13:43:00+05:30",
          "2024-08-12 13:44:00+05:30",
          "2024-08-12 13:45:00+05:30",
          "2024-08-12 13:46:00+05:30",
          "2024-08-12 13:47:00+05:30",
          "2024-08-12 13:48:00+05:30",
          "2024-08-12 13:49:00+05:30",
          "2024-08-12 13:50:00+05:30",
          "2024-08-12 13:51:00+05:30",
          "2024-08-12 13:52:00+05:30",
          "2024-08-12 13:53:00+05:30",
          "2024-08-12 13:54:00+05:30",
          "2024-08-12 13:55:00+05:30",
          "2024-08-12 13:56:00+05:30",
          "2024-08-12 13:57:00+05:30",
          "2024-08-12 13:58:00+05:30",
          "2024-08-12 13:59:00+05:30",
          "2024-08-12 14:00:00+05:30",
          "2024-08-12 14:01:00+05:30",
          "2024-08-12 14:02:00+05:30",
          "2024-08-12 14:03:00+05:30",
          "2024-08-12 14:04:00+05:30",
          "2024-08-12 14:05:00+05:30",
          "2024-08-12 14:06:00+05:30",
          "2024-08-12 14:07:00+05:30",
          "2024-08-12 14:08:00+05:30",
          "2024-08-12 14:09:00+05:30",
          "2024-08-12 14:10:00+05:30",
          "2024-08-12 14:11:00+05:30",
          "2024-08-12 14:12:00+05:30",
          "2024-08-12 14:13:00+05:30",
          "2024-08-12 14:14:00+05:30",
          "2024-08-12 14:15:00+05:30",
          "2024-08-12 14:16:00+05:30",
          "2024-08-12 14:17:00+05:30",
          "2024-08-12 14:18:00+05:30",
          "2024-08-12 14:19:00+05:30",
          "2024-08-12 14:20:00+05:30",
          "2024-08-12 14:21:00+05:30",
          "2024-08-12 14:22:00+05:30",
          "2024-08-12 14:23:00+05:30",
          "2024-08-12 14:24:00+05:30",
          "2024-08-12 14:25:00+05:30",
          "2024-08-12 14:26:00+05:30",
          "2024-08-12 14:27:00+05:30",
          "2024-08-12 14:28:00+05:30",
          "2024-08-12 14:29:00+05:30",
          "2024-08-12 14:30:00+05:30",
          "2024-08-12 14:31:00+05:30",
          "2024-08-12 14:32:00+05:30",
          "2024-08-12 14:33:00+05:30",
          "2024-08-12 14:34:00+05:30",
          "2024-08-12 14:35:00+05:30",
          "2024-08-12 14:36:00+05:30",
          "2024-08-12 14:37:00+05:30",
          "2024-08-12 14:38:00+05:30",
          "2024-08-12 14:39:00+05:30",
          "2024-08-12 14:40:00+05:30",
          "2024-08-12 14:41:00+05:30",
          "2024-08-12 14:42:00+05:30",
          "2024-08-12 14:43:00+05:30",
          "2024-08-12 14:44:00+05:30",
          "2024-08-12 14:45:00+05:30",
          "2024-08-12 14:46:00+05:30",
          "2024-08-12 14:47:00+05:30",
          "2024-08-12 14:48:00+05:30",
          "2024-08-12 14:49:00+05:30",
          "2024-08-12 14:50:00+05:30",
          "2024-08-12 14:51:00+05:30",
          "2024-08-12 14:52:00+05:30",
          "2024-08-12 14:53:00+05:30",
          "2024-08-12 14:54:00+05:30",
          "2024-08-12 14:55:00+05:30",
          "2024-08-12 14:56:00+05:30",
          "2024-08-12 14:57:00+05:30",
          "2024-08-12 14:58:00+05:30",
          "2024-08-12 14:59:00+05:30",
          "2024-08-12 15:00:00+05:30",
          "2024-08-12 15:01:00+05:30",
          "2024-08-12 15:02:00+05:30",
          "2024-08-12 15:03:00+05:30",
          "2024-08-12 15:04:00+05:30",
          "2024-08-12 15:05:00+05:30",
          "2024-08-12 15:06:00+05:30",
          "2024-08-12 15:07:00+05:30",
          "2024-08-12 15:08:00+05:30",
          "2024-08-12 15:09:00+05:30",
          "2024-08-12 15:10:00+05:30",
          "2024-08-12 15:11:00+05:30",
          "2024-08-12 15:12:00+05:30",
          "2024-08-12 15:13:00+05:30",
          "2024-08-12 15:14:00+05:30",
          "2024-08-12 15:15:00+05:30",
          "2024-08-12 15:16:00+05:30",
          "2024-08-12 15:17:00+05:30",
          "2024-08-12 15:18:00+05:30",
          "2024-08-12 15:19:00+05:30",
          "2024-08-12 15:20:00+05:30",
          "2024-08-12 15:21:00+05:30",
          "2024-08-12 15:22:00+05:30",
          "2024-08-12 15:23:00+05:30",
          "2024-08-12 15:24:00+05:30",
          "2024-08-12 15:25:00+05:30",
          "2024-08-12 15:26:00+05:30",
          "2024-08-12 15:27:00+05:30",
          "2024-08-12 15:28:00+05:30",
          "2024-08-12 15:29:00+05:30"
         ],
         "xaxis": "x",
         "y": [
          24278.150390625,
          24311.2734375,
          24281.62109375,
          24307.92578125,
          24281.720703125,
          24306.306640625,
          24282.2578125,
          24304.181640625,
          24284.796875,
          24299.87890625,
          24287.708984375,
          24298.61328125,
          24286.357421875,
          24299.716796875,
          24285.671875,
          24299.345703125,
          24286.75390625,
          24297.2734375,
          24286.958984375,
          24297.828125,
          24285.6171875,
          24297.912109375,
          24285.607421875,
          24297.818359375,
          24285.427734375,
          24297.837890625,
          24285.00390625,
          24297.978515625,
          24284.94921875,
          24297.0078125,
          24285.54296875,
          24295.84765625,
          24285.92578125,
          24295.125,
          24285.9921875,
          24294.54296875,
          24286.08203125,
          24293.884765625,
          24286.1484375,
          24293.47265625,
          24285.880859375,
          24293.2109375,
          24285.6953125,
          24292.8125,
          24285.59375,
          24292.39453125,
          24285.431640625,
          24292.09765625,
          24285.19140625,
          24291.76953125,
          24285.060546875,
          24291.345703125,
          24284.970703125,
          24290.91015625,
          24284.865234375,
          24290.48046875,
          24284.7734375,
          24290.009765625,
          24284.705078125,
          24289.552734375,
          24284.58203125,
          24289.16015625,
          24284.41015625,
          24288.79296875,
          24284.23046875,
          24288.423828125,
          24284.044921875,
          24288.07421875,
          24283.83984375,
          24287.73828125,
          24283.63671875,
          24287.388671875,
          24283.447265625,
          24287.037109375,
          24283.2578125,
          24286.69140625,
          24283.064453125,
          24286.345703125,
          24282.880859375,
          24285.994140625,
          24282.701171875,
          24285.646484375,
          24282.513671875,
          24285.3125,
          24282.322265625,
          24284.982421875,
          24282.12890625,
          24284.6640625,
          24281.931640625,
          24284.357421875,
          24281.728515625,
          24284.056640625,
          24281.529296875,
          24283.759765625,
          24281.33203125,
          24283.470703125,
          24281.13671875,
          24283.185546875,
          24280.947265625,
          24282.90625,
          24280.76171875,
          24282.6328125,
          24280.580078125,
          24282.365234375,
          24280.400390625,
          24282.103515625,
          24280.224609375,
          24281.849609375,
          24280.052734375,
          24281.60546875,
          24279.8828125,
          24281.369140625,
          24279.71875,
          24281.140625,
          24279.556640625,
          24280.919921875,
          24279.3984375,
          24280.70703125,
          24279.248046875,
          24280.5,
          24279.099609375,
          24280.302734375,
          24278.9609375,
          24280.109375,
          24278.822265625,
          24279.92578125,
          24278.693359375,
          24279.748046875,
          24278.568359375,
          24279.580078125,
          24278.44921875,
          24279.41796875,
          24278.333984375,
          24279.26171875,
          24278.22265625,
          24279.115234375,
          24278.119140625,
          24278.97265625,
          24278.01953125,
          24278.83984375,
          24277.923828125,
          24278.7109375,
          24277.833984375,
          24278.591796875,
          24277.75,
          24278.4765625,
          24277.669921875,
          24278.3671875,
          24277.59375,
          24278.263671875,
          24277.5234375,
          24278.166015625,
          24277.455078125,
          24278.072265625,
          24277.392578125,
          24277.986328125,
          24277.333984375,
          24277.90234375,
          24277.279296875,
          24277.82421875,
          24277.228515625,
          24277.751953125,
          24277.1796875,
          24277.68359375,
          24277.134765625,
          24277.619140625,
          24277.091796875,
          24277.55859375,
          24277.0546875,
          24277.501953125,
          24277.017578125,
          24277.44921875,
          24276.986328125,
          24277.3984375,
          24276.955078125,
          24277.3515625,
          24276.92578125,
          24277.30859375,
          24276.900390625,
          24277.267578125,
          24276.876953125,
          24277.23046875,
          24276.85546875,
          24277.193359375,
          24276.833984375,
          24277.16015625,
          24276.81640625,
          24277.12890625,
          24276.798828125,
          24277.1015625,
          24276.78515625,
          24277.07421875,
          24276.76953125,
          24277.048828125,
          24276.7578125,
          24277.02734375,
          24276.748046875,
          24277.00390625,
          24276.736328125,
          24276.982421875,
          24276.7265625,
          24276.96484375,
          24276.71875,
          24276.947265625,
          24276.712890625,
          24276.931640625,
          24276.705078125,
          24276.916015625,
          24276.69921875,
          24276.90234375,
          24276.693359375,
          24276.888671875,
          24276.689453125,
          24276.876953125,
          24276.68359375,
          24276.865234375,
          24276.681640625,
          24276.853515625,
          24276.677734375,
          24276.84375,
          24276.67578125,
          24276.8359375,
          24276.673828125,
          24276.826171875,
          24276.671875,
          24276.818359375,
          24276.669921875,
          24276.8125,
          24276.66796875,
          24276.8046875,
          24276.666015625,
          24276.798828125,
          24276.666015625,
          24276.79296875,
          24276.666015625,
          24276.78515625,
          24276.666015625,
          24276.78125,
          24276.666015625,
          24276.77734375,
          24276.666015625,
          24276.771484375,
          24276.666015625,
          24276.767578125,
          24276.666015625,
          24276.763671875,
          24276.666015625,
          24276.759765625,
          24276.666015625,
          24276.7578125,
          24276.666015625,
          24276.75390625,
          24276.666015625,
          24276.75,
          24276.666015625,
          24276.748046875,
          24276.66796875,
          24276.74609375,
          24276.66796875,
          24276.7421875,
          24276.66796875,
          24276.740234375,
          24276.669921875,
          24276.73828125,
          24276.669921875,
          24276.736328125,
          24276.671875,
          24276.734375,
          24276.671875,
          24276.732421875,
          24276.671875,
          24276.73046875,
          24276.673828125,
          24276.73046875,
          24276.673828125,
          24276.728515625,
          24276.67578125,
          24276.7265625,
          24276.67578125,
          24276.724609375,
          24276.67578125,
          24276.72265625,
          24276.67578125,
          24276.72265625,
          24276.67578125,
          24276.720703125,
          24276.677734375,
          24276.720703125,
          24276.677734375,
          24276.720703125,
          24276.6796875,
          24276.71875,
          24276.6796875,
          24276.716796875,
          24276.6796875,
          24276.716796875,
          24276.681640625,
          24276.71484375,
          24276.681640625,
          24276.71484375,
          24276.68359375,
          24276.712890625,
          24276.68359375,
          24276.712890625,
          24276.68359375,
          24276.712890625,
          24276.68359375,
          24276.712890625,
          24276.68359375,
          24276.712890625,
          24276.68359375,
          24276.7109375,
          24276.68359375,
          24276.7109375,
          24276.685546875,
          24276.7109375,
          24276.685546875,
          24276.708984375,
          24276.685546875,
          24276.708984375,
          24276.685546875,
          24276.708984375,
          24276.6875,
          24276.70703125,
          24276.6875,
          24276.70703125,
          24276.6875,
          24276.70703125,
          24276.6875,
          24276.70703125,
          24276.689453125,
          24276.705078125,
          24276.689453125,
          24276.705078125,
          24276.689453125,
          24276.705078125,
          24276.689453125,
          24276.705078125,
          24276.689453125,
          24276.705078125,
          24276.69140625,
          24276.703125,
          24276.69140625,
          24276.703125,
          24276.69140625
         ],
         "yaxis": "y"
        }
       ],
       "layout": {
        "legend": {
         "title": {
          "text": "variable"
         },
         "tracegroupgap": 0
        },
        "margin": {
         "t": 60
        },
        "template": {
         "data": {
          "bar": [
           {
            "error_x": {
             "color": "#2a3f5f"
            },
            "error_y": {
             "color": "#2a3f5f"
            },
            "marker": {
             "line": {
              "color": "#E5ECF6",
              "width": 0.5
             },
             "pattern": {
              "fillmode": "overlay",
              "size": 10,
              "solidity": 0.2
             }
            },
            "type": "bar"
           }
          ],
          "barpolar": [
           {
            "marker": {
             "line": {
              "color": "#E5ECF6",
              "width": 0.5
             },
             "pattern": {
              "fillmode": "overlay",
              "size": 10,
              "solidity": 0.2
             }
            },
            "type": "barpolar"
           }
          ],
          "carpet": [
           {
            "aaxis": {
             "endlinecolor": "#2a3f5f",
             "gridcolor": "white",
             "linecolor": "white",
             "minorgridcolor": "white",
             "startlinecolor": "#2a3f5f"
            },
            "baxis": {
             "endlinecolor": "#2a3f5f",
             "gridcolor": "white",
             "linecolor": "white",
             "minorgridcolor": "white",
             "startlinecolor": "#2a3f5f"
            },
            "type": "carpet"
           }
          ],
          "choropleth": [
           {
            "colorbar": {
             "outlinewidth": 0,
             "ticks": ""
            },
            "type": "choropleth"
           }
          ],
          "contour": [
           {
            "colorbar": {
             "outlinewidth": 0,
             "ticks": ""
            },
            "colorscale": [
             [
              0,
              "#0d0887"
             ],
             [
              0.1111111111111111,
              "#46039f"
             ],
             [
              0.2222222222222222,
              "#7201a8"
             ],
             [
              0.3333333333333333,
              "#9c179e"
             ],
             [
              0.4444444444444444,
              "#bd3786"
             ],
             [
              0.5555555555555556,
              "#d8576b"
             ],
             [
              0.6666666666666666,
              "#ed7953"
             ],
             [
              0.7777777777777778,
              "#fb9f3a"
             ],
             [
              0.8888888888888888,
              "#fdca26"
             ],
             [
              1,
              "#f0f921"
             ]
            ],
            "type": "contour"
           }
          ],
          "contourcarpet": [
           {
            "colorbar": {
             "outlinewidth": 0,
             "ticks": ""
            },
            "type": "contourcarpet"
           }
          ],
          "heatmap": [
           {
            "colorbar": {
             "outlinewidth": 0,
             "ticks": ""
            },
            "colorscale": [
             [
              0,
              "#0d0887"
             ],
             [
              0.1111111111111111,
              "#46039f"
             ],
             [
              0.2222222222222222,
              "#7201a8"
             ],
             [
              0.3333333333333333,
              "#9c179e"
             ],
             [
              0.4444444444444444,
              "#bd3786"
             ],
             [
              0.5555555555555556,
              "#d8576b"
             ],
             [
              0.6666666666666666,
              "#ed7953"
             ],
             [
              0.7777777777777778,
              "#fb9f3a"
             ],
             [
              0.8888888888888888,
              "#fdca26"
             ],
             [
              1,
              "#f0f921"
             ]
            ],
            "type": "heatmap"
           }
          ],
          "heatmapgl": [
           {
            "colorbar": {
             "outlinewidth": 0,
             "ticks": ""
            },
            "colorscale": [
             [
              0,
              "#0d0887"
             ],
             [
              0.1111111111111111,
              "#46039f"
             ],
             [
              0.2222222222222222,
              "#7201a8"
             ],
             [
              0.3333333333333333,
              "#9c179e"
             ],
             [
              0.4444444444444444,
              "#bd3786"
             ],
             [
              0.5555555555555556,
              "#d8576b"
             ],
             [
              0.6666666666666666,
              "#ed7953"
             ],
             [
              0.7777777777777778,
              "#fb9f3a"
             ],
             [
              0.8888888888888888,
              "#fdca26"
             ],
             [
              1,
              "#f0f921"
             ]
            ],
            "type": "heatmapgl"
           }
          ],
          "histogram": [
           {
            "marker": {
             "pattern": {
              "fillmode": "overlay",
              "size": 10,
              "solidity": 0.2
             }
            },
            "type": "histogram"
           }
          ],
          "histogram2d": [
           {
            "colorbar": {
             "outlinewidth": 0,
             "ticks": ""
            },
            "colorscale": [
             [
              0,
              "#0d0887"
             ],
             [
              0.1111111111111111,
              "#46039f"
             ],
             [
              0.2222222222222222,
              "#7201a8"
             ],
             [
              0.3333333333333333,
              "#9c179e"
             ],
             [
              0.4444444444444444,
              "#bd3786"
             ],
             [
              0.5555555555555556,
              "#d8576b"
             ],
             [
              0.6666666666666666,
              "#ed7953"
             ],
             [
              0.7777777777777778,
              "#fb9f3a"
             ],
             [
              0.8888888888888888,
              "#fdca26"
             ],
             [
              1,
              "#f0f921"
             ]
            ],
            "type": "histogram2d"
           }
          ],
          "histogram2dcontour": [
           {
            "colorbar": {
             "outlinewidth": 0,
             "ticks": ""
            },
            "colorscale": [
             [
              0,
              "#0d0887"
             ],
             [
              0.1111111111111111,
              "#46039f"
             ],
             [
              0.2222222222222222,
              "#7201a8"
             ],
             [
              0.3333333333333333,
              "#9c179e"
             ],
             [
              0.4444444444444444,
              "#bd3786"
             ],
             [
              0.5555555555555556,
              "#d8576b"
             ],
             [
              0.6666666666666666,
              "#ed7953"
             ],
             [
              0.7777777777777778,
              "#fb9f3a"
             ],
             [
              0.8888888888888888,
              "#fdca26"
             ],
             [
              1,
              "#f0f921"
             ]
            ],
            "type": "histogram2dcontour"
           }
          ],
          "mesh3d": [
           {
            "colorbar": {
             "outlinewidth": 0,
             "ticks": ""
            },
            "type": "mesh3d"
           }
          ],
          "parcoords": [
           {
            "line": {
             "colorbar": {
              "outlinewidth": 0,
              "ticks": ""
             }
            },
            "type": "parcoords"
           }
          ],
          "pie": [
           {
            "automargin": true,
            "type": "pie"
           }
          ],
          "scatter": [
           {
            "fillpattern": {
             "fillmode": "overlay",
             "size": 10,
             "solidity": 0.2
            },
            "type": "scatter"
           }
          ],
          "scatter3d": [
           {
            "line": {
             "colorbar": {
              "outlinewidth": 0,
              "ticks": ""
             }
            },
            "marker": {
             "colorbar": {
              "outlinewidth": 0,
              "ticks": ""
             }
            },
            "type": "scatter3d"
           }
          ],
          "scattercarpet": [
           {
            "marker": {
             "colorbar": {
              "outlinewidth": 0,
              "ticks": ""
             }
            },
            "type": "scattercarpet"
           }
          ],
          "scattergeo": [
           {
            "marker": {
             "colorbar": {
              "outlinewidth": 0,
              "ticks": ""
             }
            },
            "type": "scattergeo"
           }
          ],
          "scattergl": [
           {
            "marker": {
             "colorbar": {
              "outlinewidth": 0,
              "ticks": ""
             }
            },
            "type": "scattergl"
           }
          ],
          "scattermapbox": [
           {
            "marker": {
             "colorbar": {
              "outlinewidth": 0,
              "ticks": ""
             }
            },
            "type": "scattermapbox"
           }
          ],
          "scatterpolar": [
           {
            "marker": {
             "colorbar": {
              "outlinewidth": 0,
              "ticks": ""
             }
            },
            "type": "scatterpolar"
           }
          ],
          "scatterpolargl": [
           {
            "marker": {
             "colorbar": {
              "outlinewidth": 0,
              "ticks": ""
             }
            },
            "type": "scatterpolargl"
           }
          ],
          "scatterternary": [
           {
            "marker": {
             "colorbar": {
              "outlinewidth": 0,
              "ticks": ""
             }
            },
            "type": "scatterternary"
           }
          ],
          "surface": [
           {
            "colorbar": {
             "outlinewidth": 0,
             "ticks": ""
            },
            "colorscale": [
             [
              0,
              "#0d0887"
             ],
             [
              0.1111111111111111,
              "#46039f"
             ],
             [
              0.2222222222222222,
              "#7201a8"
             ],
             [
              0.3333333333333333,
              "#9c179e"
             ],
             [
              0.4444444444444444,
              "#bd3786"
             ],
             [
              0.5555555555555556,
              "#d8576b"
             ],
             [
              0.6666666666666666,
              "#ed7953"
             ],
             [
              0.7777777777777778,
              "#fb9f3a"
             ],
             [
              0.8888888888888888,
              "#fdca26"
             ],
             [
              1,
              "#f0f921"
             ]
            ],
            "type": "surface"
           }
          ],
          "table": [
           {
            "cells": {
             "fill": {
              "color": "#EBF0F8"
             },
             "line": {
              "color": "white"
             }
            },
            "header": {
             "fill": {
              "color": "#C8D4E3"
             },
             "line": {
              "color": "white"
             }
            },
            "type": "table"
           }
          ]
         },
         "layout": {
          "annotationdefaults": {
           "arrowcolor": "#2a3f5f",
           "arrowhead": 0,
           "arrowwidth": 1
          },
          "autotypenumbers": "strict",
          "coloraxis": {
           "colorbar": {
            "outlinewidth": 0,
            "ticks": ""
           }
          },
          "colorscale": {
           "diverging": [
            [
             0,
             "#8e0152"
            ],
            [
             0.1,
             "#c51b7d"
            ],
            [
             0.2,
             "#de77ae"
            ],
            [
             0.3,
             "#f1b6da"
            ],
            [
             0.4,
             "#fde0ef"
            ],
            [
             0.5,
             "#f7f7f7"
            ],
            [
             0.6,
             "#e6f5d0"
            ],
            [
             0.7,
             "#b8e186"
            ],
            [
             0.8,
             "#7fbc41"
            ],
            [
             0.9,
             "#4d9221"
            ],
            [
             1,
             "#276419"
            ]
           ],
           "sequential": [
            [
             0,
             "#0d0887"
            ],
            [
             0.1111111111111111,
             "#46039f"
            ],
            [
             0.2222222222222222,
             "#7201a8"
            ],
            [
             0.3333333333333333,
             "#9c179e"
            ],
            [
             0.4444444444444444,
             "#bd3786"
            ],
            [
             0.5555555555555556,
             "#d8576b"
            ],
            [
             0.6666666666666666,
             "#ed7953"
            ],
            [
             0.7777777777777778,
             "#fb9f3a"
            ],
            [
             0.8888888888888888,
             "#fdca26"
            ],
            [
             1,
             "#f0f921"
            ]
           ],
           "sequentialminus": [
            [
             0,
             "#0d0887"
            ],
            [
             0.1111111111111111,
             "#46039f"
            ],
            [
             0.2222222222222222,
             "#7201a8"
            ],
            [
             0.3333333333333333,
             "#9c179e"
            ],
            [
             0.4444444444444444,
             "#bd3786"
            ],
            [
             0.5555555555555556,
             "#d8576b"
            ],
            [
             0.6666666666666666,
             "#ed7953"
            ],
            [
             0.7777777777777778,
             "#fb9f3a"
            ],
            [
             0.8888888888888888,
             "#fdca26"
            ],
            [
             1,
             "#f0f921"
            ]
           ]
          },
          "colorway": [
           "#636efa",
           "#EF553B",
           "#00cc96",
           "#ab63fa",
           "#FFA15A",
           "#19d3f3",
           "#FF6692",
           "#B6E880",
           "#FF97FF",
           "#FECB52"
          ],
          "font": {
           "color": "#2a3f5f"
          },
          "geo": {
           "bgcolor": "white",
           "lakecolor": "white",
           "landcolor": "#E5ECF6",
           "showlakes": true,
           "showland": true,
           "subunitcolor": "white"
          },
          "hoverlabel": {
           "align": "left"
          },
          "hovermode": "closest",
          "mapbox": {
           "style": "light"
          },
          "paper_bgcolor": "white",
          "plot_bgcolor": "#E5ECF6",
          "polar": {
           "angularaxis": {
            "gridcolor": "white",
            "linecolor": "white",
            "ticks": ""
           },
           "bgcolor": "#E5ECF6",
           "radialaxis": {
            "gridcolor": "white",
            "linecolor": "white",
            "ticks": ""
           }
          },
          "scene": {
           "xaxis": {
            "backgroundcolor": "#E5ECF6",
            "gridcolor": "white",
            "gridwidth": 2,
            "linecolor": "white",
            "showbackground": true,
            "ticks": "",
            "zerolinecolor": "white"
           },
           "yaxis": {
            "backgroundcolor": "#E5ECF6",
            "gridcolor": "white",
            "gridwidth": 2,
            "linecolor": "white",
            "showbackground": true,
            "ticks": "",
            "zerolinecolor": "white"
           },
           "zaxis": {
            "backgroundcolor": "#E5ECF6",
            "gridcolor": "white",
            "gridwidth": 2,
            "linecolor": "white",
            "showbackground": true,
            "ticks": "",
            "zerolinecolor": "white"
           }
          },
          "shapedefaults": {
           "line": {
            "color": "#2a3f5f"
           }
          },
          "ternary": {
           "aaxis": {
            "gridcolor": "white",
            "linecolor": "white",
            "ticks": ""
           },
           "baxis": {
            "gridcolor": "white",
            "linecolor": "white",
            "ticks": ""
           },
           "bgcolor": "#E5ECF6",
           "caxis": {
            "gridcolor": "white",
            "linecolor": "white",
            "ticks": ""
           }
          },
          "title": {
           "x": 0.05
          },
          "xaxis": {
           "automargin": true,
           "gridcolor": "white",
           "linecolor": "white",
           "ticks": "",
           "title": {
            "standoff": 15
           },
           "zerolinecolor": "white",
           "zerolinewidth": 2
          },
          "yaxis": {
           "automargin": true,
           "gridcolor": "white",
           "linecolor": "white",
           "ticks": "",
           "title": {
            "standoff": 15
           },
           "zerolinecolor": "white",
           "zerolinewidth": 2
          }
         }
        },
        "xaxis": {
         "anchor": "y",
         "domain": [
          0,
          1
         ],
         "title": {
          "text": "Datetime"
         }
        },
        "yaxis": {
         "anchor": "x",
         "domain": [
          0,
          1
         ],
         "title": {
          "text": "value"
         }
        }
       }
      }
     },
     "metadata": {},
     "output_type": "display_data"
    }
   ],
   "source": [
    "fig = px.line(df, x = 'Datetime', y = ['Open','Open_pred'])\n",
    "fig.show()"
   ]
  }
 ],
 "metadata": {
  "kernelspec": {
   "display_name": "stock_env",
   "language": "python",
   "name": "python3"
  },
  "language_info": {
   "codemirror_mode": {
    "name": "ipython",
    "version": 3
   },
   "file_extension": ".py",
   "mimetype": "text/x-python",
   "name": "python",
   "nbconvert_exporter": "python",
   "pygments_lexer": "ipython3",
   "version": "3.10.14"
  }
 },
 "nbformat": 4,
 "nbformat_minor": 2
}
