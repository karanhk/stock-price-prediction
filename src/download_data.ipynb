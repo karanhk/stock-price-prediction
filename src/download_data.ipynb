{
 "cells": [
  {
   "cell_type": "markdown",
   "metadata": {},
   "source": [
    "### This workbook downloads the stock data for given duration and interval."
   ]
  },
  {
   "cell_type": "markdown",
   "metadata": {},
   "source": [
    "### Import libraries"
   ]
  },
  {
   "cell_type": "code",
   "execution_count": 1,
   "metadata": {},
   "outputs": [],
   "source": [
    "import pandas as pd\n",
    "import numpy as np\n",
    "import os\n",
    "import matplotlib.pyplot as plt\n",
    "import yfinance as yf\n",
    "from datetime import datetime"
   ]
  },
  {
   "cell_type": "code",
   "execution_count": 2,
   "metadata": {},
   "outputs": [
    {
     "data": {
      "text/plain": [
       "datetime.date(2024, 3, 1)"
      ]
     },
     "execution_count": 2,
     "metadata": {},
     "output_type": "execute_result"
    }
   ],
   "source": [
    "datetime.strptime('2024-03-01','%Y-%m-%d').date()"
   ]
  },
  {
   "cell_type": "code",
   "execution_count": 3,
   "metadata": {},
   "outputs": [],
   "source": [
    "# Make dataframe to store the data\n",
    "data_df = pd.DataFrame(columns=['Datetime', 'Open', 'High', 'Low', 'Close', 'Adj Close', 'Volume'])"
   ]
  },
  {
   "cell_type": "code",
   "execution_count": 4,
   "metadata": {},
   "outputs": [],
   "source": [
    "stock_symbol = '^NSEI'\n",
    "end_date = datetime.today().date()\n",
    "start_date = datetime.strptime('2024-07-08','%Y-%m-%d').date()\n",
    "interval = '5m' # 1m, 2m, 5m, 15m, 30m, 60m, 90m, 1h, 1d, 1wk, 1mo, 3mo, 6mo, 1y, 2y, 5y, 10y"
   ]
  },
  {
   "cell_type": "code",
   "execution_count": 5,
   "metadata": {},
   "outputs": [
    {
     "name": "stderr",
     "output_type": "stream",
     "text": [
      "[*********************100%%**********************]  1 of 1 completed\n"
     ]
    },
    {
     "data": {
      "text/html": [
       "<div>\n",
       "<style scoped>\n",
       "    .dataframe tbody tr th:only-of-type {\n",
       "        vertical-align: middle;\n",
       "    }\n",
       "\n",
       "    .dataframe tbody tr th {\n",
       "        vertical-align: top;\n",
       "    }\n",
       "\n",
       "    .dataframe thead th {\n",
       "        text-align: right;\n",
       "    }\n",
       "</style>\n",
       "<table border=\"1\" class=\"dataframe\">\n",
       "  <thead>\n",
       "    <tr style=\"text-align: right;\">\n",
       "      <th></th>\n",
       "      <th>Open</th>\n",
       "      <th>High</th>\n",
       "      <th>Low</th>\n",
       "      <th>Close</th>\n",
       "      <th>Adj Close</th>\n",
       "      <th>Volume</th>\n",
       "    </tr>\n",
       "    <tr>\n",
       "      <th>Datetime</th>\n",
       "      <th></th>\n",
       "      <th></th>\n",
       "      <th></th>\n",
       "      <th></th>\n",
       "      <th></th>\n",
       "      <th></th>\n",
       "    </tr>\n",
       "  </thead>\n",
       "  <tbody>\n",
       "    <tr>\n",
       "      <th>2024-07-08 09:15:00+05:30</th>\n",
       "      <td>194.919998</td>\n",
       "      <td>198.960007</td>\n",
       "      <td>194.919998</td>\n",
       "      <td>198.470001</td>\n",
       "      <td>198.470001</td>\n",
       "      <td>0</td>\n",
       "    </tr>\n",
       "    <tr>\n",
       "      <th>2024-07-08 09:20:00+05:30</th>\n",
       "      <td>198.470001</td>\n",
       "      <td>201.220001</td>\n",
       "      <td>198.470001</td>\n",
       "      <td>201.220001</td>\n",
       "      <td>201.220001</td>\n",
       "      <td>16459200</td>\n",
       "    </tr>\n",
       "    <tr>\n",
       "      <th>2024-07-08 09:25:00+05:30</th>\n",
       "      <td>201.000000</td>\n",
       "      <td>204.570007</td>\n",
       "      <td>200.539993</td>\n",
       "      <td>204.039993</td>\n",
       "      <td>204.039993</td>\n",
       "      <td>21953490</td>\n",
       "    </tr>\n",
       "    <tr>\n",
       "      <th>2024-07-08 09:30:00+05:30</th>\n",
       "      <td>204.000000</td>\n",
       "      <td>204.500000</td>\n",
       "      <td>202.410004</td>\n",
       "      <td>204.080002</td>\n",
       "      <td>204.080002</td>\n",
       "      <td>11387749</td>\n",
       "    </tr>\n",
       "    <tr>\n",
       "      <th>2024-07-08 09:35:00+05:30</th>\n",
       "      <td>204.000000</td>\n",
       "      <td>205.889999</td>\n",
       "      <td>203.990005</td>\n",
       "      <td>205.880005</td>\n",
       "      <td>205.880005</td>\n",
       "      <td>14047351</td>\n",
       "    </tr>\n",
       "    <tr>\n",
       "      <th>...</th>\n",
       "      <td>...</td>\n",
       "      <td>...</td>\n",
       "      <td>...</td>\n",
       "      <td>...</td>\n",
       "      <td>...</td>\n",
       "      <td>...</td>\n",
       "    </tr>\n",
       "    <tr>\n",
       "      <th>2024-08-05 15:05:00+05:30</th>\n",
       "      <td>180.029999</td>\n",
       "      <td>180.199997</td>\n",
       "      <td>179.500000</td>\n",
       "      <td>179.589996</td>\n",
       "      <td>179.589996</td>\n",
       "      <td>1182614</td>\n",
       "    </tr>\n",
       "    <tr>\n",
       "      <th>2024-08-05 15:10:00+05:30</th>\n",
       "      <td>179.559998</td>\n",
       "      <td>179.850006</td>\n",
       "      <td>179.500000</td>\n",
       "      <td>179.589996</td>\n",
       "      <td>179.589996</td>\n",
       "      <td>879508</td>\n",
       "    </tr>\n",
       "    <tr>\n",
       "      <th>2024-08-05 15:15:00+05:30</th>\n",
       "      <td>179.589996</td>\n",
       "      <td>179.600006</td>\n",
       "      <td>179.000000</td>\n",
       "      <td>179.169998</td>\n",
       "      <td>179.169998</td>\n",
       "      <td>2275609</td>\n",
       "    </tr>\n",
       "    <tr>\n",
       "      <th>2024-08-05 15:20:00+05:30</th>\n",
       "      <td>179.110001</td>\n",
       "      <td>179.240005</td>\n",
       "      <td>178.820007</td>\n",
       "      <td>178.990005</td>\n",
       "      <td>178.990005</td>\n",
       "      <td>1846788</td>\n",
       "    </tr>\n",
       "    <tr>\n",
       "      <th>2024-08-05 15:25:00+05:30</th>\n",
       "      <td>178.990005</td>\n",
       "      <td>179.000000</td>\n",
       "      <td>178.800003</td>\n",
       "      <td>178.990005</td>\n",
       "      <td>178.990005</td>\n",
       "      <td>1173273</td>\n",
       "    </tr>\n",
       "  </tbody>\n",
       "</table>\n",
       "<p>1500 rows × 6 columns</p>\n",
       "</div>"
      ],
      "text/plain": [
       "                                 Open        High         Low       Close  \\\n",
       "Datetime                                                                    \n",
       "2024-07-08 09:15:00+05:30  194.919998  198.960007  194.919998  198.470001   \n",
       "2024-07-08 09:20:00+05:30  198.470001  201.220001  198.470001  201.220001   \n",
       "2024-07-08 09:25:00+05:30  201.000000  204.570007  200.539993  204.039993   \n",
       "2024-07-08 09:30:00+05:30  204.000000  204.500000  202.410004  204.080002   \n",
       "2024-07-08 09:35:00+05:30  204.000000  205.889999  203.990005  205.880005   \n",
       "...                               ...         ...         ...         ...   \n",
       "2024-08-05 15:05:00+05:30  180.029999  180.199997  179.500000  179.589996   \n",
       "2024-08-05 15:10:00+05:30  179.559998  179.850006  179.500000  179.589996   \n",
       "2024-08-05 15:15:00+05:30  179.589996  179.600006  179.000000  179.169998   \n",
       "2024-08-05 15:20:00+05:30  179.110001  179.240005  178.820007  178.990005   \n",
       "2024-08-05 15:25:00+05:30  178.990005  179.000000  178.800003  178.990005   \n",
       "\n",
       "                            Adj Close    Volume  \n",
       "Datetime                                         \n",
       "2024-07-08 09:15:00+05:30  198.470001         0  \n",
       "2024-07-08 09:20:00+05:30  201.220001  16459200  \n",
       "2024-07-08 09:25:00+05:30  204.039993  21953490  \n",
       "2024-07-08 09:30:00+05:30  204.080002  11387749  \n",
       "2024-07-08 09:35:00+05:30  205.880005  14047351  \n",
       "...                               ...       ...  \n",
       "2024-08-05 15:05:00+05:30  179.589996   1182614  \n",
       "2024-08-05 15:10:00+05:30  179.589996    879508  \n",
       "2024-08-05 15:15:00+05:30  179.169998   2275609  \n",
       "2024-08-05 15:20:00+05:30  178.990005   1846788  \n",
       "2024-08-05 15:25:00+05:30  178.990005   1173273  \n",
       "\n",
       "[1500 rows x 6 columns]"
      ]
     },
     "execution_count": 5,
     "metadata": {},
     "output_type": "execute_result"
    }
   ],
   "source": [
    "yf.download(tickers='IRFC.NS', start=start_date, end=end_date, interval=interval)"
   ]
  },
  {
   "cell_type": "code",
   "execution_count": null,
   "metadata": {},
   "outputs": [],
   "source": []
  }
 ],
 "metadata": {
  "kernelspec": {
   "display_name": "stock_env",
   "language": "python",
   "name": "python3"
  },
  "language_info": {
   "codemirror_mode": {
    "name": "ipython",
    "version": 3
   },
   "file_extension": ".py",
   "mimetype": "text/x-python",
   "name": "python",
   "nbconvert_exporter": "python",
   "pygments_lexer": "ipython3",
   "version": "3.10.14"
  }
 },
 "nbformat": 4,
 "nbformat_minor": 2
}
